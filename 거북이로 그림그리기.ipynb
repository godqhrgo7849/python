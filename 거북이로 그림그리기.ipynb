{
 "cells": [
  {
   "cell_type": "markdown",
   "metadata": {},
   "source": [
    "### 거북이로 그림그리기"
   ]
  },
  {
   "cell_type": "code",
   "execution_count": 4,
   "metadata": {},
   "outputs": [],
   "source": [
    "from turtle import *\n",
    "color('red', 'yellow')\n",
    "begin_fill()\n",
    "while True:\n",
    "    forward(200)\n",
    "    left(170)\n",
    "    if abs(pos()) < 1:\n",
    "        break\n",
    "end_fill()\n",
    "done()"
   ]
  },
  {
   "cell_type": "code",
   "execution_count": 1,
   "metadata": {},
   "outputs": [],
   "source": [
    "import turtle as t"
   ]
  },
  {
   "cell_type": "code",
   "execution_count": 2,
   "metadata": {},
   "outputs": [],
   "source": [
    "\n",
    "t.shape('turtle')\n",
    "t.fd(200)\n",
    "t.left(90)\n",
    "t.fd(200)\n",
    "t.left(90)\n",
    "t.fd(200)\n",
    "t.left(90)\n",
    "t.fd(200)\n",
    "t.left(90)\n",
    "t.screensize(400, 300)\n",
    "\n",
    "t.exitonclick()"
   ]
  },
  {
   "cell_type": "code",
   "execution_count": 1,
   "metadata": {},
   "outputs": [],
   "source": [
    "import turtle as t\n",
    "\n",
    "t.color('red','yellow')\n",
    "t.begin_fill()\n",
    "t.shape('turtle')\n",
    "t.fd(200)\n",
    "t.left(120)\n",
    "t.fd(200)\n",
    "t.left(120)\n",
    "t.fd(200)\n",
    "t.left(120)\n",
    "t.end_fill()\n",
    "t.screensize(400, 300)\n",
    "\n",
    "t.exitonclick()"
   ]
  },
  {
   "cell_type": "code",
   "execution_count": 3,
   "metadata": {},
   "outputs": [],
   "source": [
    "import turtle as t\n",
    "\n",
    "t.color('red','yellow')\n",
    "t.begin_fill()\n",
    "t.shape('turtle')\n",
    "for i in range(1,4) :\n",
    "    t.fd(200)\n",
    "    t.left(120)\n",
    "t.end_fill()\n",
    "t.screensize(400, 300)\n",
    "\n",
    "t.exitonclick()"
   ]
  },
  {
   "cell_type": "code",
   "execution_count": 1,
   "metadata": {},
   "outputs": [],
   "source": [
    "import turtle as t\n",
    "\n",
    "t.color('red','yellow')\n",
    "t.begin_fill()\n",
    "t.shape('turtle')\n",
    "for i in range(1,5) :\n",
    "    t.fd(200)\n",
    "    t.left(90)\n",
    "t.end_fill()\n",
    "t.screensize(400, 300)\n",
    "\n",
    "t.exitonclick()"
   ]
  },
  {
   "cell_type": "code",
   "execution_count": 7,
   "metadata": {},
   "outputs": [],
   "source": [
    "import turtle as t\n",
    "\n",
    "t.color('red','yellow')\n",
    "t.begin_fill()\n",
    "t.shape('turtle')\n",
    "for i in range(1,6) :\n",
    "    t.fd(200)\n",
    "    t.left(72)\n",
    "t.end_fill()\n",
    "t.screensize(400, 300)\n",
    "\n",
    "t.exitonclick()"
   ]
  },
  {
   "cell_type": "code",
   "execution_count": 22,
   "metadata": {},
   "outputs": [
    {
     "name": "stdout",
     "output_type": "stream",
     "text": [
      "몇각형입니까? >>>10\n"
     ]
    }
   ],
   "source": [
    "import turtle as t\n",
    "\n",
    "t.color('red','yellow')\n",
    "t.begin_fill()\n",
    "t.shape('turtle')\n",
    "angel=int(input('몇각형입니까? >>>'))\n",
    "for i in range(angel) :\n",
    "    t.fd(5)\n",
    "    t.left(360/angel)\n",
    "t.end_fill()\n",
    "t.screensize(500, 500)\n",
    "\n",
    "t.exitonclick()"
   ]
  },
  {
   "cell_type": "code",
   "execution_count": 3,
   "metadata": {},
   "outputs": [
    {
     "name": "stdout",
     "output_type": "stream",
     "text": [
      "숫자값105\n"
     ]
    }
   ],
   "source": [
    "import turtle as t\n",
    "\n",
    "t.bgcolor(\"black\")\n",
    "t.speed(0)\n",
    "\n",
    "a=int(input('숫자값'))\n",
    "for x in range(a) :\n",
    "    if x % 3== 0:\n",
    "        t.color(\"red\")\n",
    "    if x % 3 == 1:\n",
    "        t.color(\"yellow\")\n",
    "    if x % 3 == 2:\n",
    "        t.color(\"blue\")\n",
    "    t.forward(x * 2)\n",
    "    t.circle(a+10)\n",
    "    t.fd(a)\n",
    "    t.left(119)\n",
    "\n",
    "t.exitonclick()"
   ]
  },
  {
   "cell_type": "code",
   "execution_count": null,
   "metadata": {},
   "outputs": [],
   "source": []
  },
  {
   "cell_type": "code",
   "execution_count": null,
   "metadata": {},
   "outputs": [],
   "source": []
  }
 ],
 "metadata": {
  "kernelspec": {
   "display_name": "Python 3",
   "language": "python",
   "name": "python3"
  },
  "language_info": {
   "codemirror_mode": {
    "name": "ipython",
    "version": 3
   },
   "file_extension": ".py",
   "mimetype": "text/x-python",
   "name": "python",
   "nbconvert_exporter": "python",
   "pygments_lexer": "ipython3",
   "version": "3.7.4"
  }
 },
 "nbformat": 4,
 "nbformat_minor": 2
}
