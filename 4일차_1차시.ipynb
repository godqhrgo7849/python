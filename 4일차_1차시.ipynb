{
  "nbformat": 4,
  "nbformat_minor": 0,
  "metadata": {
    "colab": {
      "name": "4일차-1차시.ipynb",
      "provenance": [],
      "collapsed_sections": [],
      "authorship_tag": "ABX9TyPU7ELuN9or3VYyuzt4okjB",
      "include_colab_link": true
    },
    "kernelspec": {
      "name": "python3",
      "display_name": "Python 3"
    }
  },
  "cells": [
    {
      "cell_type": "markdown",
      "metadata": {
        "id": "view-in-github",
        "colab_type": "text"
      },
      "source": [
        "<a href=\"https://colab.research.google.com/github/godqhrgo7849/python/blob/master/4%EC%9D%BC%EC%B0%A8_1%EC%B0%A8%EC%8B%9C.ipynb\" target=\"_parent\"><img src=\"https://colab.research.google.com/assets/colab-badge.svg\" alt=\"Open In Colab\"/></a>"
      ]
    },
    {
      "cell_type": "code",
      "metadata": {
        "id": "mrRaqVew68wc",
        "colab_type": "code",
        "colab": {}
      },
      "source": [
        ""
      ],
      "execution_count": 0,
      "outputs": []
    },
    {
      "cell_type": "markdown",
      "metadata": {
        "id": "Jojr-9cs71Us",
        "colab_type": "text"
      },
      "source": [
        "**[학습목표]**\n",
        "\n",
        "1. list, Range\n",
        "2. for문\n",
        "\n",
        "\n",
        "---\n",
        "\n"
      ]
    },
    {
      "cell_type": "code",
      "metadata": {
        "id": "cp09xQIr8FYK",
        "colab_type": "code",
        "colab": {
          "base_uri": "https://localhost:8080/",
          "height": 35
        },
        "outputId": "a9187bbc-935b-4bc9-9087-c3a3c57968c4"
      },
      "source": [
        "range(5)"
      ],
      "execution_count": 2,
      "outputs": [
        {
          "output_type": "execute_result",
          "data": {
            "text/plain": [
              "range(0, 5)"
            ]
          },
          "metadata": {
            "tags": []
          },
          "execution_count": 2
        }
      ]
    },
    {
      "cell_type": "code",
      "metadata": {
        "id": "19xY1E0A8a85",
        "colab_type": "code",
        "colab": {
          "base_uri": "https://localhost:8080/",
          "height": 35
        },
        "outputId": "9a41655e-1996-4016-c76b-f816dd77cdaf"
      },
      "source": [
        "a = list(range(10,0,-2))\n",
        "a"
      ],
      "execution_count": 11,
      "outputs": [
        {
          "output_type": "execute_result",
          "data": {
            "text/plain": [
              "[10, 8, 6, 4, 2]"
            ]
          },
          "metadata": {
            "tags": []
          },
          "execution_count": 11
        }
      ]
    },
    {
      "cell_type": "code",
      "metadata": {
        "id": "r-LWrKxK9Cxt",
        "colab_type": "code",
        "colab": {
          "base_uri": "https://localhost:8080/",
          "height": 35
        },
        "outputId": "a916132b-3167-4f6b-835d-0d6383765d96"
      },
      "source": [
        "type(a)"
      ],
      "execution_count": 13,
      "outputs": [
        {
          "output_type": "execute_result",
          "data": {
            "text/plain": [
              "list"
            ]
          },
          "metadata": {
            "tags": []
          },
          "execution_count": 13
        }
      ]
    },
    {
      "cell_type": "code",
      "metadata": {
        "id": "7nTueCEn9EjZ",
        "colab_type": "code",
        "colab": {
          "base_uri": "https://localhost:8080/",
          "height": 35
        },
        "outputId": "d10f3038-7faf-4c60-b3cb-5af18fa61919"
      },
      "source": [
        "for i in range(1,10) :\n",
        "  print(i,end=' ')"
      ],
      "execution_count": 17,
      "outputs": [
        {
          "output_type": "stream",
          "text": [
            "1 2 3 4 5 6 7 8 9 "
          ],
          "name": "stdout"
        }
      ]
    },
    {
      "cell_type": "markdown",
      "metadata": {
        "id": "UVMLt0-p9kCt",
        "colab_type": "text"
      },
      "source": [
        "**[문제1]**\n",
        "for문을 이용해서 10부터 0까지 -2씩 출력"
      ]
    },
    {
      "cell_type": "code",
      "metadata": {
        "id": "THqKsScV9wC3",
        "colab_type": "code",
        "colab": {
          "base_uri": "https://localhost:8080/",
          "height": 35
        },
        "outputId": "27460d7d-b951-41a5-bbcf-b8f07154659f"
      },
      "source": [
        "for i in range(10,-2,-2) :\n",
        "  print(i,end=' ')"
      ],
      "execution_count": 20,
      "outputs": [
        {
          "output_type": "stream",
          "text": [
            "10 8 6 4 2 0 "
          ],
          "name": "stdout"
        }
      ]
    },
    {
      "cell_type": "code",
      "metadata": {
        "id": "JsRayWGt-Ex6",
        "colab_type": "code",
        "colab": {
          "base_uri": "https://localhost:8080/",
          "height": 107
        },
        "outputId": "f00ee67e-6235-471e-dec9-ba3e2276b795"
      },
      "source": [
        "a=[1.3,2.1,4.5,5,5.1]\n",
        "for i in a:\n",
        "  print(a)"
      ],
      "execution_count": 32,
      "outputs": [
        {
          "output_type": "stream",
          "text": [
            "[1.3, 2.1, 4.5, 5, 5.1]\n",
            "[1.3, 2.1, 4.5, 5, 5.1]\n",
            "[1.3, 2.1, 4.5, 5, 5.1]\n",
            "[1.3, 2.1, 4.5, 5, 5.1]\n",
            "[1.3, 2.1, 4.5, 5, 5.1]\n"
          ],
          "name": "stdout"
        }
      ]
    },
    {
      "cell_type": "code",
      "metadata": {
        "id": "1NSk86zf-p9R",
        "colab_type": "code",
        "colab": {
          "base_uri": "https://localhost:8080/",
          "height": 107
        },
        "outputId": "93cb240c-1ee5-4811-ab1b-814d4a482a77"
      },
      "source": [
        "a=[1.3,2.1,4,5,5.1]\n",
        "for i in range(len(a)):\n",
        "  print(a[i])"
      ],
      "execution_count": 34,
      "outputs": [
        {
          "output_type": "stream",
          "text": [
            "1.3\n",
            "2.1\n",
            "4\n",
            "5\n",
            "5.1\n"
          ],
          "name": "stdout"
        }
      ]
    },
    {
      "cell_type": "markdown",
      "metadata": {
        "id": "wsg7M2Bb_U1E",
        "colab_type": "text"
      },
      "source": [
        "**[문제2]**\n",
        "\n",
        "```\n",
        "#\n",
        "for문을 Hello Python 1\n",
        ".\n",
        ".\n",
        ".\n",
        "Python 10\\\n",
        "```"
      ]
    },
    {
      "cell_type": "code",
      "metadata": {
        "id": "WPGlWeAF_kUk",
        "colab_type": "code",
        "colab": {
          "base_uri": "https://localhost:8080/",
          "height": 197
        },
        "outputId": "8411d99d-cb09-4b29-de80-680a77947edb"
      },
      "source": [
        "for i in range(1,11) :\n",
        "  print('Hello Pyth*on',i)\n"
      ],
      "execution_count": 38,
      "outputs": [
        {
          "output_type": "stream",
          "text": [
            "Hello Pyth*on 1\n",
            "Hello Pyth*on 2\n",
            "Hello Pyth*on 3\n",
            "Hello Pyth*on 4\n",
            "Hello Pyth*on 5\n",
            "Hello Pyth*on 6\n",
            "Hello Pyth*on 7\n",
            "Hello Pyth*on 8\n",
            "Hello Pyth*on 9\n",
            "Hello Pyth*on 10\n"
          ],
          "name": "stdout"
        }
      ]
    },
    {
      "cell_type": "code",
      "metadata": {
        "id": "0T9wFbWmAGJd",
        "colab_type": "code",
        "colab": {
          "base_uri": "https://localhost:8080/",
          "height": 53
        },
        "outputId": "5fc7092a-1eff-4185-de50-660ca2536310"
      },
      "source": [
        "count=int(input('몇번 반복? >>>'))\n",
        "type(count)"
      ],
      "execution_count": 40,
      "outputs": [
        {
          "output_type": "stream",
          "text": [
            "몇번 반복? >>>3\n"
          ],
          "name": "stdout"
        },
        {
          "output_type": "execute_result",
          "data": {
            "text/plain": [
              "int"
            ]
          },
          "metadata": {
            "tags": []
          },
          "execution_count": 40
        }
      ]
    },
    {
      "cell_type": "code",
      "metadata": {
        "id": "EZiNLjO_AhzS",
        "colab_type": "code",
        "colab": {
          "base_uri": "https://localhost:8080/",
          "height": 89
        },
        "outputId": "d1f5f839-4cab-4367-ed4e-7b1a70b6eff3"
      },
      "source": [
        "count=int(input('몇번 반복? >>>'))\n",
        "for i in range(count) :\n",
        "  print('안녕',i+1)"
      ],
      "execution_count": 43,
      "outputs": [
        {
          "output_type": "stream",
          "text": [
            "몇번 반복? >>>3\n",
            "안녕 1\n",
            "안녕 2\n",
            "안녕 3\n"
          ],
          "name": "stdout"
        }
      ]
    },
    {
      "cell_type": "code",
      "metadata": {
        "id": "TbGjD8cbBB1L",
        "colab_type": "code",
        "colab": {
          "base_uri": "https://localhost:8080/",
          "height": 71
        },
        "outputId": "aae29076-85b9-448d-a141-ff320115cd33"
      },
      "source": [
        "a=list(map(int,(input('숫자입력').split())))\n",
        "sum=0\n",
        "avg = 0.0\n",
        "for i in range(len(a)):\n",
        "  sum+=a[i]\n",
        "  print(a[i],end = ' ')\n",
        "print('합계 :',sum)\n",
        "avg = sum /len(a)\n",
        "print('평균 :',avg)"
      ],
      "execution_count": 63,
      "outputs": [
        {
          "output_type": "stream",
          "text": [
            "숫자입력2156 879 15 4987\n",
            "2156 879 15 4987 합계 : 8037\n",
            "평균 : 2009.25\n"
          ],
          "name": "stdout"
        }
      ]
    },
    {
      "cell_type": "code",
      "metadata": {
        "id": "FjKRyAX9C1xK",
        "colab_type": "code",
        "colab": {}
      },
      "source": [
        ""
      ],
      "execution_count": 0,
      "outputs": []
    }
  ]
}