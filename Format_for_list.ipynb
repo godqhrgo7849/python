{
 "cells": [
  {
   "cell_type": "markdown",
   "metadata": {},
   "source": [
    "### Format_for_list"
   ]
  },
  {
   "cell_type": "code",
   "execution_count": 32,
   "metadata": {},
   "outputs": [
    {
     "name": "stdout",
     "output_type": "stream",
     "text": [
      "대건 윤기 찬빈\n"
     ]
    }
   ],
   "source": [
    "s = '{} {} {}'\n",
    "f=s.format('대건','윤기','찬빈')\n",
    "print(f)"
   ]
  },
  {
   "cell_type": "code",
   "execution_count": 33,
   "metadata": {},
   "outputs": [
    {
     "name": "stdout",
     "output_type": "stream",
     "text": [
      "대건이는 윤기와 찬빈를 친구라고 생각한다\n"
     ]
    }
   ],
   "source": [
    "s = '{}이는 {}와 {}를 친구라고 생각한다'\n",
    "f=s.format('대건','윤기','찬빈')\n",
    "print(f)"
   ]
  },
  {
   "cell_type": "code",
   "execution_count": 34,
   "metadata": {},
   "outputs": [
    {
     "name": "stdout",
     "output_type": "stream",
     "text": [
      "대건이는 30312번이고 인천대에 진학했다\n"
     ]
    }
   ],
   "source": [
    "s = '{}이는 {}번이고 {}에 진학했다'\n",
    "f=s.format('대건',30312,'인천대')\n",
    "print(f)"
   ]
  },
  {
   "cell_type": "code",
   "execution_count": 35,
   "metadata": {},
   "outputs": [
    {
     "name": "stdout",
     "output_type": "stream",
     "text": [
      "석찬이는 30103번이고 인천시 연수구에 살고있다\n"
     ]
    }
   ],
   "source": [
    "name = '석찬'\n",
    "num = 30103\n",
    "add = '인천시 연수구'\n",
    "s = '{}이는 {}번이고 {}에 살고있다'\n",
    "f=s.format(name,num,add)\n",
    "print(f)"
   ]
  },
  {
   "cell_type": "code",
   "execution_count": 36,
   "metadata": {
    "scrolled": true
   },
   "outputs": [
    {
     "name": "stdout",
     "output_type": "stream",
     "text": [
      "이름입력>>>석찬\n",
      "학번입력>>>30301\n",
      "주소입력>>>인천시 연수구\n",
      "석찬이는 30301번이고 인천시 연수구에 살고있다\n"
     ]
    }
   ],
   "source": [
    "name = input('이름입력>>>')\n",
    "num = input('학번입력>>>')\n",
    "add = input('주소입력>>>')\n",
    "s = '{}이는 {}번이고 {}에 살고있다'\n",
    "f=s.format(name,num,add)\n",
    "print(f)"
   ]
  },
  {
   "cell_type": "code",
   "execution_count": 6,
   "metadata": {
    "scrolled": true
   },
   "outputs": [
    {
     "name": "stdout",
     "output_type": "stream",
     "text": [
      "이름 학번 주소 띄어쓰기를 이용해 입력>>>이름 111 집\n"
     ]
    }
   ],
   "source": [
    "stu= input('이름 학번 주소 띄어쓰기를 이용해 입력>>>').split()\n"
   ]
  },
  {
   "cell_type": "code",
   "execution_count": 7,
   "metadata": {},
   "outputs": [
    {
     "data": {
      "text/plain": [
       "['이름', '111', '집']"
      ]
     },
     "execution_count": 7,
     "metadata": {},
     "output_type": "execute_result"
    }
   ],
   "source": [
    "stu"
   ]
  },
  {
   "cell_type": "code",
   "execution_count": 8,
   "metadata": {},
   "outputs": [
    {
     "data": {
      "text/plain": [
       "('이름', '111')"
      ]
     },
     "execution_count": 8,
     "metadata": {},
     "output_type": "execute_result"
    }
   ],
   "source": [
    "stu[0],stu[1]"
   ]
  },
  {
   "cell_type": "code",
   "execution_count": 9,
   "metadata": {},
   "outputs": [
    {
     "name": "stdout",
     "output_type": "stream",
     "text": [
      "이름이는 111번이고 집에 살고있다\n"
     ]
    }
   ],
   "source": [
    "s = '{}이는 {}번이고 {}에 살고있다'\n",
    "f=s.format(stu[0],stu[1],stu[2])\n",
    "print(f)"
   ]
  },
  {
   "cell_type": "markdown",
   "metadata": {},
   "source": [
    "### [문제1] 다음과 같은 양식으로 입력받아 출력하기\n",
    "- 햄버거/2/4 입력하면\n",
    "- 햄버거 2개 값은 8 달러입니다."
   ]
  },
  {
   "cell_type": "code",
   "execution_count": 10,
   "metadata": {},
   "outputs": [
    {
     "name": "stdout",
     "output_type": "stream",
     "text": [
      "햄버거 2 4\n",
      "햄버거 2개 값은 8 달러입니다.\n"
     ]
    }
   ],
   "source": [
    "h = input().split()\n",
    "a = '{} {}개 값은 {} 달러입니다.'\n",
    "k=a.format(h[0],h[1],int(h[2])*int(h[1]))\n",
    "print(k)"
   ]
  },
  {
   "cell_type": "code",
   "execution_count": 11,
   "metadata": {
    "scrolled": false
   },
   "outputs": [
    {
     "name": "stdout",
     "output_type": "stream",
     "text": [
      "20 인천 0.500000\n"
     ]
    }
   ],
   "source": [
    "info = '%d %s %f'\n",
    "pr = info%(20,'인천',0.5)\n",
    "print(pr)"
   ]
  },
  {
   "cell_type": "code",
   "execution_count": 12,
   "metadata": {
    "scrolled": false
   },
   "outputs": [
    {
     "name": "stdout",
     "output_type": "stream",
     "text": [
      "20년도 인천여고 0.05퍼센트\n"
     ]
    }
   ],
   "source": [
    "info = '%d년도 %s여고 %0.2f퍼센트'\n",
    "pr = info%(20,'인천',0.05)\n",
    "print(pr)"
   ]
  },
  {
   "cell_type": "markdown",
   "metadata": {},
   "source": [
    "### [문제2] 햄버거 2개는 8달러이다.(%문을 이용)\n",
    "- '햄버거'\n",
    "- 2\n",
    "- 2*4"
   ]
  },
  {
   "cell_type": "code",
   "execution_count": 13,
   "metadata": {},
   "outputs": [
    {
     "name": "stdout",
     "output_type": "stream",
     "text": [
      "햄버거 2개는 8달러이다.\n"
     ]
    }
   ],
   "source": [
    "food = '%s %d개는 %d달러이다.'\n",
    "fo = food%('햄버거',2,2*4)\n",
    "print(fo)"
   ]
  },
  {
   "cell_type": "markdown",
   "metadata": {},
   "source": [
    "### list "
   ]
  },
  {
   "cell_type": "code",
   "execution_count": 14,
   "metadata": {},
   "outputs": [
    {
     "data": {
      "text/plain": [
       "[1, 2, 3, 4]"
      ]
     },
     "execution_count": 14,
     "metadata": {},
     "output_type": "execute_result"
    }
   ],
   "source": [
    "arr = [1,2,3,4]\n",
    "arr"
   ]
  },
  {
   "cell_type": "code",
   "execution_count": 15,
   "metadata": {},
   "outputs": [
    {
     "data": {
      "text/plain": [
       "['고래', '판다', '백조', '우파루파', '레서판다']"
      ]
     },
     "execution_count": 15,
     "metadata": {},
     "output_type": "execute_result"
    }
   ],
   "source": [
    "arr = ['고래','판다','백조','우파루파','레서판다']\n",
    "arr"
   ]
  },
  {
   "cell_type": "code",
   "execution_count": 16,
   "metadata": {},
   "outputs": [
    {
     "data": {
      "text/plain": [
       "'고래'"
      ]
     },
     "execution_count": 16,
     "metadata": {},
     "output_type": "execute_result"
    }
   ],
   "source": [
    "arr[0]"
   ]
  },
  {
   "cell_type": "code",
   "execution_count": 17,
   "metadata": {},
   "outputs": [
    {
     "data": {
      "text/plain": [
       "5"
      ]
     },
     "execution_count": 17,
     "metadata": {},
     "output_type": "execute_result"
    }
   ],
   "source": [
    "len(arr)"
   ]
  },
  {
   "cell_type": "code",
   "execution_count": 18,
   "metadata": {},
   "outputs": [
    {
     "name": "stdout",
     "output_type": "stream",
     "text": [
      "1\n",
      "2\n",
      "3\n",
      "4\n",
      "5\n"
     ]
    }
   ],
   "source": [
    "for i in range(1,6) :\n",
    "    print(i)"
   ]
  },
  {
   "cell_type": "code",
   "execution_count": 19,
   "metadata": {},
   "outputs": [
    {
     "name": "stdout",
     "output_type": "stream",
     "text": [
      "5\n",
      "4\n",
      "3\n",
      "2\n",
      "1\n"
     ]
    }
   ],
   "source": [
    "for i in range(5,0,-1) :\n",
    "    print(i)"
   ]
  },
  {
   "cell_type": "code",
   "execution_count": 20,
   "metadata": {},
   "outputs": [
    {
     "name": "stdout",
     "output_type": "stream",
     "text": [
      "고래\n",
      "판다\n",
      "백조\n",
      "우파루파\n",
      "레서판다\n"
     ]
    }
   ],
   "source": [
    "for i in arr :\n",
    "    print(i)"
   ]
  },
  {
   "cell_type": "code",
   "execution_count": 21,
   "metadata": {},
   "outputs": [
    {
     "name": "stdout",
     "output_type": "stream",
     "text": [
      "고래\n",
      "판다\n",
      "백조\n",
      "우파루파\n",
      "레서판다\n"
     ]
    }
   ],
   "source": [
    "for i in range(len(arr)) :\n",
    "    print(arr[i])"
   ]
  },
  {
   "cell_type": "code",
   "execution_count": 22,
   "metadata": {},
   "outputs": [
    {
     "name": "stdout",
     "output_type": "stream",
     "text": [
      "고래\n",
      "판다\n",
      "백조\n",
      "우파루파\n",
      "레서판다\n"
     ]
    }
   ],
   "source": [
    "for i, v in enumerate(arr) :\n",
    "    print(arr[i])"
   ]
  },
  {
   "cell_type": "code",
   "execution_count": 24,
   "metadata": {},
   "outputs": [
    {
     "name": "stdout",
     "output_type": "stream",
     "text": [
      "1 번 고래\n",
      "2 번 판다\n",
      "3 번 백조\n",
      "4 번 우파루파\n",
      "5 번 레서판다\n"
     ]
    }
   ],
   "source": [
    "for i, v in enumerate(arr) :\n",
    "    print(i+1,'번',v)"
   ]
  },
  {
   "cell_type": "markdown",
   "metadata": {},
   "source": [
    "### [문제1] 30~50까지 출력하기"
   ]
  },
  {
   "cell_type": "code",
   "execution_count": 28,
   "metadata": {},
   "outputs": [
    {
     "name": "stdout",
     "output_type": "stream",
     "text": [
      "30 31 32 33 34 35 36 37 38 39 40 41 42 43 44 45 46 47 48 49 50 "
     ]
    }
   ],
   "source": [
    "for i in range(30,51):\n",
    "    print(i,end=' ')"
   ]
  },
  {
   "cell_type": "markdown",
   "metadata": {},
   "source": [
    "### [문제2]30~50까지 중 홀수만 출력하기 (if사용)"
   ]
  },
  {
   "cell_type": "code",
   "execution_count": 31,
   "metadata": {},
   "outputs": [
    {
     "name": "stdout",
     "output_type": "stream",
     "text": [
      "31 33 35 37 39 41 43 45 47 49 "
     ]
    }
   ],
   "source": [
    "for i in range(30,51):\n",
    "    if i%2!=0 :\n",
    "        print(i,end=' ')"
   ]
  },
  {
   "cell_type": "markdown",
   "metadata": {},
   "source": [
    "### [문제3]30~50까지 중에서 홀수만 더해서 sum에 넣고 출력"
   ]
  },
  {
   "cell_type": "code",
   "execution_count": 43,
   "metadata": {},
   "outputs": [
    {
     "name": "stdout",
     "output_type": "stream",
     "text": [
      "i값 31 sum값 31\n",
      "i값 33 sum값 64\n",
      "i값 35 sum값 99\n",
      "i값 37 sum값 136\n",
      "i값 39 sum값 175\n",
      "i값 41 sum값 216\n",
      "i값 43 sum값 259\n",
      "i값 45 sum값 304\n",
      "i값 47 sum값 351\n",
      "i값 49 sum값 400\n"
     ]
    }
   ],
   "source": [
    "sum=0\n",
    "for i in range(30,51):\n",
    "    if i%2!=0 :\n",
    "        sum=sum+i\n",
    "        print('i값',i,'sum값',sum)"
   ]
  },
  {
   "cell_type": "markdown",
   "metadata": {},
   "source": [
    "### [문제4]\n",
    "- 1부터 10까지 중에서\n",
    "- 짝수이면 파이썬\n",
    "- 홀수이면 야 너도 할 수 있어 출력"
   ]
  },
  {
   "cell_type": "code",
   "execution_count": 62,
   "metadata": {},
   "outputs": [
    {
     "name": "stdout",
     "output_type": "stream",
     "text": [
      "1 번 너도 할 수 있어\n",
      "2 번 파이썬\n",
      "3 번 너도 할 수 있어\n",
      "4 번 파이썬\n",
      "5 번 너도 할 수 있어\n",
      "6 번 파이썬\n",
      "7 번 너도 할 수 있어\n",
      "8 번 파이썬\n",
      "9 번 너도 할 수 있어\n",
      "10 번 파이썬\n"
     ]
    }
   ],
   "source": [
    "for i in range(1,11) :\n",
    "    if i%2!=0 :\n",
    "        print(i,'번','너도 할 수 있어')\n",
    "    else :\n",
    "        print(i,'번','파이썬')"
   ]
  }
 ],
 "metadata": {
  "kernelspec": {
   "display_name": "Python 3",
   "language": "python",
   "name": "python3"
  },
  "language_info": {
   "codemirror_mode": {
    "name": "ipython",
    "version": 3
   },
   "file_extension": ".py",
   "mimetype": "text/x-python",
   "name": "python",
   "nbconvert_exporter": "python",
   "pygments_lexer": "ipython3",
   "version": "3.7.4"
  }
 },
 "nbformat": 4,
 "nbformat_minor": 2
}
