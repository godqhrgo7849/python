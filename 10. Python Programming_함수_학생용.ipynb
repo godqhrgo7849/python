{
 "cells": [
  {
   "cell_type": "markdown",
   "metadata": {
    "colab_type": "text",
    "id": "0VmrGGkR2a8H"
   },
   "source": [
    "함수\n",
    "- 코드의 재사용\n",
    "- 중복된 코드\n",
    "- range()\n",
    "- sum()\n",
    "- len()\n"
   ]
  },
  {
   "cell_type": "code",
   "execution_count": 1,
   "metadata": {
    "colab": {
     "base_uri": "https://localhost:8080/",
     "height": 55
    },
    "colab_type": "code",
    "executionInfo": {
     "elapsed": 1256,
     "status": "ok",
     "timestamp": 1598597885662,
     "user": {
      "displayName": "인천정보컴퓨터",
      "photoUrl": "",
      "userId": "06131215293709342244"
     },
     "user_tz": -540
    },
    "id": "k7BQBt9-2ldW",
    "outputId": "5cf5f25a-4295-4ee0-d2bd-f7ba3d05d5fd"
   },
   "outputs": [
    {
     "name": "stdout",
     "output_type": "stream",
     "text": [
      "4\n",
      "10\n"
     ]
    }
   ],
   "source": [
    "# 내장함수의 예\n",
    "a = [1,2,3,4]\n",
    "\n",
    "# b = a의 길이\n",
    "b = len(a)\n",
    "\n",
    "# s = a의 합\n",
    "s = sum(a)\n",
    "\n",
    "\n",
    "print(b)\n",
    "print(s)"
   ]
  },
  {
   "cell_type": "markdown",
   "metadata": {
    "colab_type": "text",
    "id": "B_3mnpQq3A_Q"
   },
   "source": [
    "함수의 정의\n",
    "- 정의할 때 def 키워드 사용\n",
    "- argument 정의(함수에 입력으로 전달하는 값을 의미, argument 또는 parameta라고 함)\n",
    "- body 함수의 구현 부분, 함수 역시 코드 블럭이므로, 들여쓰기, 코드 블럭이라고 함\n",
    "- 함수를 호출한 코드로 함수가 해당 기능 수행하고 완료괸 값을 전달하기 위해 키워드 사용\n",
    "- 리턴 이후에 오는 값을 caller 전달\n",
    "- 함수의 네이밍 중요\n",
    "- get_a(x)\n",
    "\n",
    "- get_person_name(0)"
   ]
  },
  {
   "cell_type": "code",
   "execution_count": 2,
   "metadata": {
    "colab": {},
    "colab_type": "code",
    "id": "6XV8nckr22c0"
   },
   "outputs": [],
   "source": [
    "def add(x, y):\n",
    "  n = x + y\n",
    "  return n\n",
    "    "
   ]
  },
  {
   "cell_type": "code",
   "execution_count": 3,
   "metadata": {},
   "outputs": [
    {
     "data": {
      "text/plain": [
       "300"
      ]
     },
     "execution_count": 3,
     "metadata": {},
     "output_type": "execute_result"
    }
   ],
   "source": [
    "add(100,200)"
   ]
  },
  {
   "cell_type": "code",
   "execution_count": 4,
   "metadata": {
    "colab": {},
    "colab_type": "code",
    "id": "GeAwtC-E4EJa"
   },
   "outputs": [],
   "source": [
    "length = len(a)\n",
    "\n",
    "#c에 함수 add를 적용하여 출력하기\n",
    "c = add(100,200)"
   ]
  },
  {
   "cell_type": "code",
   "execution_count": 5,
   "metadata": {
    "colab": {},
    "colab_type": "code",
    "id": "AgrRYj7r4GnD"
   },
   "outputs": [
    {
     "name": "stdout",
     "output_type": "stream",
     "text": [
      "4\n",
      "300\n"
     ]
    }
   ],
   "source": [
    "print(length)\n",
    "print(c)"
   ]
  },
  {
   "cell_type": "code",
   "execution_count": 6,
   "metadata": {
    "colab": {
     "base_uri": "https://localhost:8080/",
     "height": 176
    },
    "colab_type": "code",
    "executionInfo": {
     "elapsed": 1261,
     "status": "error",
     "timestamp": 1598598311489,
     "user": {
      "displayName": "인천정보컴퓨터",
      "photoUrl": "",
      "userId": "06131215293709342244"
     },
     "user_tz": -540
    },
    "id": "c_W0ngPr2TFS",
    "outputId": "498b1b4c-8659-42d4-f4dd-9149abd8831f"
   },
   "outputs": [],
   "source": [
    "add() # 에러추측하기\n",
    "#값이 없기 떄문"
   ]
  },
  {
   "cell_type": "markdown",
   "metadata": {
    "colab_type": "text",
    "id": "S0xlnZamcnq_"
   },
   "source": [
    "### [문제1] 빼기 함수 sub 만들기\n",
    "\n",
    "---\n",
    "\n"
   ]
  },
  {
   "cell_type": "code",
   "execution_count": 7,
   "metadata": {
    "colab": {},
    "colab_type": "code",
    "id": "Fhll37tx4hye"
   },
   "outputs": [],
   "source": [
    "def sub(x,y):\n",
    "    num = x - y\n",
    "    return num"
   ]
  },
  {
   "cell_type": "code",
   "execution_count": 8,
   "metadata": {
    "colab": {
     "base_uri": "https://localhost:8080/",
     "height": 36
    },
    "colab_type": "code",
    "executionInfo": {
     "elapsed": 1047,
     "status": "ok",
     "timestamp": 1598598359741,
     "user": {
      "displayName": "인천정보컴퓨터",
      "photoUrl": "",
      "userId": "06131215293709342244"
     },
     "user_tz": -540
    },
    "id": "5nfbaQNG4wrc",
    "outputId": "d7b2d650-0fb8-4887-c73c-26d337f19d3c"
   },
   "outputs": [
    {
     "data": {
      "text/plain": [
       "-100"
      ]
     },
     "execution_count": 8,
     "metadata": {},
     "output_type": "execute_result"
    }
   ],
   "source": [
    "# 어떤 값을 연산해서 결과가 -100 나오도록\n",
    "sub(100,200)"
   ]
  },
  {
   "cell_type": "code",
   "execution_count": 9,
   "metadata": {
    "colab": {
     "base_uri": "https://localhost:8080/",
     "height": 73
    },
    "colab_type": "code",
    "executionInfo": {
     "elapsed": 981,
     "status": "ok",
     "timestamp": 1598598416596,
     "user": {
      "displayName": "인천정보컴퓨터",
      "photoUrl": "",
      "userId": "06131215293709342244"
     },
     "user_tz": -540
    },
    "id": "z_yBg-3h4yj1",
    "outputId": "6a4d9e07-fffd-4ff9-eb29-962305eaa126"
   },
   "outputs": [
    {
     "name": "stdout",
     "output_type": "stream",
     "text": [
      "ahahahaha\n",
      "Good\n",
      "100\n"
     ]
    }
   ],
   "source": [
    "def test():\n",
    "  print('ahahahaha')\n",
    "  print('Good')\n",
    "\n",
    "  return 100\n",
    "\n",
    "\n",
    "a = test() \n",
    "print(a)\n"
   ]
  },
  {
   "cell_type": "code",
   "execution_count": 10,
   "metadata": {
    "colab": {
     "base_uri": "https://localhost:8080/",
     "height": 55
    },
    "colab_type": "code",
    "executionInfo": {
     "elapsed": 993,
     "status": "ok",
     "timestamp": 1598598499323,
     "user": {
      "displayName": "인천정보컴퓨터",
      "photoUrl": "",
      "userId": "06131215293709342244"
     },
     "user_tz": -540
    },
    "id": "U7F7IaFS5APA",
    "outputId": "e9a03db3-e3d1-4a93-f53b-69531ea7a2de"
   },
   "outputs": [
    {
     "name": "stdout",
     "output_type": "stream",
     "text": [
      "100 200\n",
      "300\n"
     ]
    }
   ],
   "source": [
    "def test(x, y): \n",
    "  print(x, y)\n",
    "  n = x + y\n",
    "\n",
    "  return n\n",
    "\n",
    "\n",
    "a = test(100, 200) # 타입을 이해하는 것도 중요함\n",
    "print(a)"
   ]
  },
  {
   "cell_type": "markdown",
   "metadata": {
    "colab_type": "text",
    "id": "qkF-IM2MdFy6"
   },
   "source": [
    "### [문제2] 세개의 매개변수를 받아 출력하고 합계구하기\n",
    "\n",
    "\n",
    "---\n",
    "\n"
   ]
  },
  {
   "cell_type": "code",
   "execution_count": 11,
   "metadata": {
    "colab": {
     "base_uri": "https://localhost:8080/",
     "height": 36
    },
    "colab_type": "code",
    "executionInfo": {
     "elapsed": 977,
     "status": "ok",
     "timestamp": 1598598648712,
     "user": {
      "displayName": "인천정보컴퓨터",
      "photoUrl": "",
      "userId": "06131215293709342244"
     },
     "user_tz": -540
    },
    "id": "QHybDlXo5X1a",
    "outputId": "21202dc0-8e19-48c9-928e-c750fcfd6f8f"
   },
   "outputs": [
    {
     "name": "stdout",
     "output_type": "stream",
     "text": [
      "10 50 7\n",
      "67\n"
     ]
    }
   ],
   "source": [
    "def test(x,y,z):\n",
    "    print(x,y,z)\n",
    "    s = x+y+z\n",
    "    \n",
    "    return s\n",
    "\n",
    "I = test(10,50,7)\n",
    "print(I)"
   ]
  },
  {
   "cell_type": "code",
   "execution_count": 12,
   "metadata": {
    "colab": {
     "base_uri": "https://localhost:8080/",
     "height": 36
    },
    "colab_type": "code",
    "executionInfo": {
     "elapsed": 1270,
     "status": "ok",
     "timestamp": 1598598675470,
     "user": {
      "displayName": "인천정보컴퓨터",
      "photoUrl": "",
      "userId": "06131215293709342244"
     },
     "user_tz": -540
    },
    "id": "h6qJcBsa52fI",
    "outputId": "75b78fb6-124d-412e-8a5b-dd41e6b381b6"
   },
   "outputs": [
    {
     "name": "stdout",
     "output_type": "stream",
     "text": [
      "1 2 3\n"
     ]
    }
   ],
   "source": [
    "print(1,2,3)"
   ]
  },
  {
   "cell_type": "code",
   "execution_count": 13,
   "metadata": {
    "colab": {
     "base_uri": "https://localhost:8080/",
     "height": 55
    },
    "colab_type": "code",
    "executionInfo": {
     "elapsed": 1150,
     "status": "ok",
     "timestamp": 1598598743306,
     "user": {
      "displayName": "인천정보컴퓨터",
      "photoUrl": "",
      "userId": "06131215293709342244"
     },
     "user_tz": -540
    },
    "id": "NGQ1F_p15_jt",
    "outputId": "19787de1-2c8d-43a0-930e-4d71b7e0d829"
   },
   "outputs": [
    {
     "name": "stdout",
     "output_type": "stream",
     "text": [
      "1-2-3%\n",
      "4-5-3%"
     ]
    }
   ],
   "source": [
    "\n",
    "print(1,2,3,sep='-', end='%\\n')\n",
    "print(4,5,3,sep='-', end='%')"
   ]
  },
  {
   "cell_type": "code",
   "execution_count": 14,
   "metadata": {
    "colab": {
     "base_uri": "https://localhost:8080/",
     "height": 55
    },
    "colab_type": "code",
    "executionInfo": {
     "elapsed": 1741,
     "status": "ok",
     "timestamp": 1599178441473,
     "user": {
      "displayName": "인천정보컴퓨터",
      "photoUrl": "",
      "userId": "06131215293709342244"
     },
     "user_tz": -540
    },
    "id": "hWGttojb6P-Z",
    "outputId": "23143228-2140-432e-f99a-40bbfc035e98"
   },
   "outputs": [],
   "source": [
    "def test(a, b=1, c=1): # 기본 파라메터는 끝에서 부터\n",
    "  z = a + b + c\n",
    "  print(a, b, c)\n",
    "  return z\n",
    "\n",
    "# 함수 부르기\n",
    "  \n"
   ]
  },
  {
   "cell_type": "code",
   "execution_count": 15,
   "metadata": {},
   "outputs": [
    {
     "name": "stdout",
     "output_type": "stream",
     "text": [
      "1 5 1\n"
     ]
    },
    {
     "data": {
      "text/plain": [
       "7"
      ]
     },
     "execution_count": 15,
     "metadata": {},
     "output_type": "execute_result"
    }
   ],
   "source": [
    "test(1,5)"
   ]
  },
  {
   "cell_type": "code",
   "execution_count": 16,
   "metadata": {
    "colab": {
     "base_uri": "https://localhost:8080/",
     "height": 55
    },
    "colab_type": "code",
    "executionInfo": {
     "elapsed": 604,
     "status": "ok",
     "timestamp": 1599178510578,
     "user": {
      "displayName": "인천정보컴퓨터",
      "photoUrl": "",
      "userId": "06131215293709342244"
     },
     "user_tz": -540
    },
    "id": "3PQLa_imdloy",
    "outputId": "b564e41a-51e8-4214-ea14-bca7945ba7c8"
   },
   "outputs": [
    {
     "name": "stdout",
     "output_type": "stream",
     "text": [
      "4 2 1\n"
     ]
    },
    {
     "data": {
      "text/plain": [
       "7"
      ]
     },
     "execution_count": 16,
     "metadata": {},
     "output_type": "execute_result"
    }
   ],
   "source": [
    "test(b=2, c=1, a=4)  # 키워드는 순서 바꿔도 상관없이"
   ]
  },
  {
   "cell_type": "markdown",
   "metadata": {
    "colab_type": "text",
    "id": "4JzbduqA7JEa"
   },
   "source": [
    "return\n",
    "- 기본적으로 함수의 종료를 명시\n",
    "- return 옆에 값이나 수식이 있다면 해당 값을 호출자에게 반환\n",
    "- return 만 존재하면 None 반환\n",
    "- return 이 없는 경우, 기본적으로 함수 코드 블럭이 종료되면, 종료로 간주, 이때도 None 반환\n"
   ]
  },
  {
   "cell_type": "code",
   "execution_count": 17,
   "metadata": {
    "colab": {},
    "colab_type": "code",
    "id": "OlhWTSh_7B1Q"
   },
   "outputs": [
    {
     "name": "stdout",
     "output_type": "stream",
     "text": [
      "1 5\n"
     ]
    },
    {
     "data": {
      "text/plain": [
       "15"
      ]
     },
     "execution_count": 17,
     "metadata": {},
     "output_type": "execute_result"
    }
   ],
   "source": [
    "def multi(x, y) :\n",
    "  if x > 10 :\n",
    "    return x * y\n",
    "  print(x, y)\n",
    "\n",
    "  return (x + 2) * y\n",
    "  print(x, y) # 의미 없는 코드\n",
    "\n",
    "multi(1, 5)  "
   ]
  },
  {
   "cell_type": "code",
   "execution_count": 18,
   "metadata": {
    "colab": {},
    "colab_type": "code",
    "id": "2rOKI0Wr6l7D"
   },
   "outputs": [
    {
     "data": {
      "text/plain": [
       "60"
      ]
     },
     "execution_count": 18,
     "metadata": {},
     "output_type": "execute_result"
    }
   ],
   "source": [
    "multi(12, 5)  # 결과값은?"
   ]
  },
  {
   "cell_type": "code",
   "execution_count": 19,
   "metadata": {
    "colab": {},
    "colab_type": "code",
    "id": "IrArq4Sl8PdD"
   },
   "outputs": [
    {
     "name": "stdout",
     "output_type": "stream",
     "text": [
      "12 5\n",
      "None\n"
     ]
    }
   ],
   "source": [
    "def multi(x, y) :\n",
    "  if x > 10 :\n",
    "    print(x, y)\n",
    "    return \n",
    "\n",
    "  return (x + 2) * y\n",
    "  print(x, y) # 의미 없는 코드\n",
    "\n",
    "print(multi(12, 5))"
   ]
  },
  {
   "cell_type": "code",
   "execution_count": 20,
   "metadata": {
    "colab": {},
    "colab_type": "code",
    "id": "k_iai3-o8b-G"
   },
   "outputs": [
    {
     "name": "stdout",
     "output_type": "stream",
     "text": [
      "None\n"
     ]
    }
   ],
   "source": [
    "def multi(x, y) :\n",
    "  if x > 10 :\n",
    "    print(x, y)\n",
    "    return x * y\n",
    "\n",
    "\n",
    "print(multi(2, 5)) # 결과값 예측하기"
   ]
  },
  {
   "cell_type": "code",
   "execution_count": 21,
   "metadata": {
    "colab": {},
    "colab_type": "code",
    "id": "swd3PLDI8lwf"
   },
   "outputs": [
    {
     "name": "stdout",
     "output_type": "stream",
     "text": [
      "(23, 60)\n",
      "<class 'tuple'>\n"
     ]
    }
   ],
   "source": [
    "def add_mul(x, y):\n",
    "  s = x + y\n",
    "  m = x * y\n",
    "\n",
    "  return s, m\n",
    "\n",
    "c = add_mul(20, 3)\n",
    "print(c)\n",
    "print(type(c))"
   ]
  },
  {
   "cell_type": "markdown",
   "metadata": {
    "colab_type": "text",
    "id": "346zg5bE9KLp"
   },
   "source": [
    "변수의 범위"
   ]
  },
  {
   "cell_type": "code",
   "execution_count": 22,
   "metadata": {
    "colab": {},
    "colab_type": "code",
    "id": "q3LGKowr88tR"
   },
   "outputs": [
    {
     "name": "stdout",
     "output_type": "stream",
     "text": [
      "30 40\n",
      "10 20\n"
     ]
    }
   ],
   "source": [
    "num1 = 10\n",
    "num2 = 20\n",
    "\n",
    "def test(num1, num2):\n",
    "  print(num1, num2)\n",
    "  return num1 + num2\n",
    "\n",
    "test(30, 40)  \n",
    "print(num1, num2)"
   ]
  },
  {
   "cell_type": "markdown",
   "metadata": {
    "colab_type": "text",
    "id": "WszJ_4IG99JC"
   },
   "source": [
    "가변길이 인자\n",
    "- 함수에서 전달되는 인수가 정해져 있지 않음\n",
    "-"
   ]
  },
  {
   "cell_type": "code",
   "execution_count": 23,
   "metadata": {
    "colab": {
     "base_uri": "https://localhost:8080/",
     "height": 73
    },
    "colab_type": "code",
    "executionInfo": {
     "elapsed": 1202,
     "status": "ok",
     "timestamp": 1598599798705,
     "user": {
      "displayName": "인천정보컴퓨터",
      "photoUrl": "",
      "userId": "06131215293709342244"
     },
     "user_tz": -540
    },
    "id": "mczKvOFq98o-",
    "outputId": "9edc9a76-d542-4bf4-8513-73a7851ca811"
   },
   "outputs": [
    {
     "name": "stdout",
     "output_type": "stream",
     "text": [
      "\n",
      "1 23\n",
      "1 2 3 hello\n"
     ]
    }
   ],
   "source": [
    "# 한줄 비워서 나오게(빈줄 출력)\n",
    "print()\n",
    "# 1,23 출력\n",
    "print(1,23)\n",
    "# 1,2,3,hello\n",
    "print(1,2,3,\"hello\")"
   ]
  },
  {
   "cell_type": "code",
   "execution_count": 24,
   "metadata": {
    "colab": {
     "base_uri": "https://localhost:8080/",
     "height": 92
    },
    "colab_type": "code",
    "executionInfo": {
     "elapsed": 1038,
     "status": "ok",
     "timestamp": 1598599902889,
     "user": {
      "displayName": "인천정보컴퓨터",
      "photoUrl": "",
      "userId": "06131215293709342244"
     },
     "user_tz": -540
    },
    "id": "OHSNohd0-SKX",
    "outputId": "d0623fc0-8034-44bd-8759-ca161e2d0549"
   },
   "outputs": [
    {
     "name": "stdout",
     "output_type": "stream",
     "text": [
      "<class 'tuple'>\n",
      "10\n",
      "20\n",
      "30\n",
      "60\n"
     ]
    }
   ],
   "source": [
    "def test(*args):\n",
    "    sum = 0\n",
    "    print(type(args))\n",
    "    for item in args:\n",
    "        print(item)\n",
    "        sum = sum + item\n",
    "    print(sum)\n",
    "        \n",
    "\n",
    "\n",
    "test(10, 20, 30)"
   ]
  },
  {
   "cell_type": "code",
   "execution_count": 25,
   "metadata": {
    "colab": {
     "base_uri": "https://localhost:8080/",
     "height": 73
    },
    "colab_type": "code",
    "executionInfo": {
     "elapsed": 1051,
     "status": "ok",
     "timestamp": 1598601848978,
     "user": {
      "displayName": "인천정보컴퓨터",
      "photoUrl": "",
      "userId": "06131215293709342244"
     },
     "user_tz": -540
    },
    "id": "smC0zZuB-rGd",
    "outputId": "ab613398-860e-422f-ce73-6751d6479938"
   },
   "outputs": [
    {
     "name": "stdout",
     "output_type": "stream",
     "text": [
      "key =  a value =  1\n",
      "key =  b value =  10\n"
     ]
    }
   ],
   "source": [
    "def test2(**kwarg):# key word argment \n",
    "    for key,value in kwarg.items():\n",
    "        print('key = ',key,'value = ',value)\n",
    "\n",
    "\n",
    " \n",
    "test2(a=1, b=10)"
   ]
  },
  {
   "cell_type": "code",
   "execution_count": 26,
   "metadata": {
    "colab": {
     "base_uri": "https://localhost:8080/",
     "height": 36
    },
    "colab_type": "code",
    "executionInfo": {
     "elapsed": 1109,
     "status": "ok",
     "timestamp": 1598601960364,
     "user": {
      "displayName": "인천정보컴퓨터",
      "photoUrl": "",
      "userId": "06131215293709342244"
     },
     "user_tz": -540
    },
    "id": "nPeRoGaX-b21",
    "outputId": "c32115ae-a821-42d6-f489-0bfddb74e589"
   },
   "outputs": [
    {
     "name": "stdout",
     "output_type": "stream",
     "text": [
      "오늘 온도 : 20도, 강수확률: 50%, 내일온도: 30도\n"
     ]
    }
   ],
   "source": [
    "a = '오늘 온도 : {}도, 강수확률: {}%, 내일온도: {}도'.format(20,50,30)\n",
    "print(a)"
   ]
  },
  {
   "cell_type": "markdown",
   "metadata": {
    "colab_type": "text",
    "id": "g3DAC6GIG3a6"
   },
   "source": [
    "format 함수\n",
    "가변 파라메터"
   ]
  },
  {
   "cell_type": "code",
   "execution_count": 27,
   "metadata": {
    "colab": {
     "base_uri": "https://localhost:8080/",
     "height": 36
    },
    "colab_type": "code",
    "executionInfo": {
     "elapsed": 1312,
     "status": "ok",
     "timestamp": 1598602030595,
     "user": {
      "displayName": "인천정보컴퓨터",
      "photoUrl": "",
      "userId": "06131215293709342244"
     },
     "user_tz": -540
    },
    "id": "zO2jY0ob-RmD",
    "outputId": "dcca2b74-bc32-45ca-bce1-002dee9fa89f"
   },
   "outputs": [
    {
     "name": "stdout",
     "output_type": "stream",
     "text": [
      "오늘 온도 : 20도, 강수확률: 50%, 내일온도: 30도\n"
     ]
    }
   ],
   "source": [
    "a = '오늘 온도 : {temp}도, 강수확률: {prob}%, 내일온도: {t_temp}도'.format(temp=20, prob=50, t_temp=30)\n",
    "print(a)"
   ]
  },
  {
   "cell_type": "markdown",
   "metadata": {
    "colab_type": "text",
    "id": "YGKruVgfG9UQ"
   },
   "source": [
    "lambda\n",
    "- 분법적인 도우미\n",
    "- 한줄로 코딩\n",
    "- 단일문으로 표현\n",
    "- 익명함수\n",
    "- 1회성"
   ]
  },
  {
   "cell_type": "code",
   "execution_count": 28,
   "metadata": {
    "colab": {},
    "colab_type": "code",
    "id": "8zV3owjfOafJ"
   },
   "outputs": [],
   "source": [
    "s =lambda  x : x**2"
   ]
  },
  {
   "cell_type": "code",
   "execution_count": 29,
   "metadata": {
    "colab": {},
    "colab_type": "code",
    "id": "xA8HFiK496Bn"
   },
   "outputs": [
    {
     "data": {
      "text/plain": [
       "function"
      ]
     },
     "execution_count": 29,
     "metadata": {},
     "output_type": "execute_result"
    }
   ],
   "source": [
    "type(s)"
   ]
  },
  {
   "cell_type": "code",
   "execution_count": 30,
   "metadata": {
    "colab": {},
    "colab_type": "code",
    "id": "4Zu-3MXDOmQ_"
   },
   "outputs": [
    {
     "data": {
      "text/plain": [
       "25"
      ]
     },
     "execution_count": 30,
     "metadata": {},
     "output_type": "execute_result"
    }
   ],
   "source": [
    "s(5)"
   ]
  },
  {
   "cell_type": "code",
   "execution_count": 31,
   "metadata": {
    "colab": {},
    "colab_type": "code",
    "id": "TBsGUFJyOpqu"
   },
   "outputs": [],
   "source": [
    "def s2(x):\n",
    "  return x**2"
   ]
  },
  {
   "cell_type": "code",
   "execution_count": 32,
   "metadata": {
    "colab": {},
    "colab_type": "code",
    "id": "pofb0_6IOmeK"
   },
   "outputs": [
    {
     "data": {
      "text/plain": [
       "25"
      ]
     },
     "execution_count": 32,
     "metadata": {},
     "output_type": "execute_result"
    }
   ],
   "source": [
    "s2(5)"
   ]
  },
  {
   "cell_type": "code",
   "execution_count": 33,
   "metadata": {
    "colab": {},
    "colab_type": "code",
    "executionInfo": {
     "elapsed": 519,
     "status": "ok",
     "timestamp": 1599179342695,
     "user": {
      "displayName": "인천정보컴퓨터",
      "photoUrl": "",
      "userId": "06131215293709342244"
     },
     "user_tz": -540
    },
    "id": "9sMT5HetOyAl"
   },
   "outputs": [],
   "source": [
    "# 두개의 수를 더하는 add2함수 만들기\n",
    "def add2(x,y):\n",
    "    a = x+y\n",
    "    return a\n",
    "    \n"
   ]
  },
  {
   "cell_type": "code",
   "execution_count": 34,
   "metadata": {
    "colab": {},
    "colab_type": "code",
    "id": "XXvYJV4HhED_"
   },
   "outputs": [
    {
     "data": {
      "text/plain": [
       "40"
      ]
     },
     "execution_count": 34,
     "metadata": {},
     "output_type": "execute_result"
    }
   ],
   "source": [
    "add(10,30)"
   ]
  },
  {
   "cell_type": "code",
   "execution_count": 35,
   "metadata": {},
   "outputs": [],
   "source": [
    "add3 = lambda a : x+y"
   ]
  },
  {
   "cell_type": "code",
   "execution_count": 36,
   "metadata": {},
   "outputs": [
    {
     "data": {
      "text/plain": [
       "230"
      ]
     },
     "execution_count": 36,
     "metadata": {},
     "output_type": "execute_result"
    }
   ],
   "source": [
    "add(200,30)"
   ]
  },
  {
   "cell_type": "markdown",
   "metadata": {
    "colab_type": "text",
    "id": "oh9xd4CShIe2"
   },
   "source": [
    "### lambda 함수로 바꿔서 써보기"
   ]
  },
  {
   "cell_type": "code",
   "execution_count": 37,
   "metadata": {
    "colab": {},
    "colab_type": "code",
    "id": "IBUE2ERVhCUp"
   },
   "outputs": [],
   "source": [
    "add2 = lambda x,y : x+y"
   ]
  },
  {
   "cell_type": "code",
   "execution_count": 38,
   "metadata": {
    "colab": {
     "base_uri": "https://localhost:8080/",
     "height": 36
    },
    "colab_type": "code",
    "executionInfo": {
     "elapsed": 596,
     "status": "ok",
     "timestamp": 1599179329793,
     "user": {
      "displayName": "인천정보컴퓨터",
      "photoUrl": "",
      "userId": "06131215293709342244"
     },
     "user_tz": -540
    },
    "id": "BLkMR3yfO8jr",
    "outputId": "85593f73-dfbd-4ea3-be8c-a5c5fa4aa3c5"
   },
   "outputs": [
    {
     "data": {
      "text/plain": [
       "40"
      ]
     },
     "execution_count": 38,
     "metadata": {},
     "output_type": "execute_result"
    }
   ],
   "source": [
    "add2(10, 30)"
   ]
  },
  {
   "cell_type": "code",
   "execution_count": 39,
   "metadata": {
    "colab": {
     "base_uri": "https://localhost:8080/",
     "height": 36
    },
    "colab_type": "code",
    "executionInfo": {
     "elapsed": 899,
     "status": "ok",
     "timestamp": 1598671296247,
     "user": {
      "displayName": "인천정보컴퓨터",
      "photoUrl": "",
      "userId": "06131215293709342244"
     },
     "user_tz": -540
    },
    "id": "yexQ9C9-O-9O",
    "outputId": "79d752b0-436c-41d9-ea1c-e981db3090e8"
   },
   "outputs": [
    {
     "data": {
      "text/plain": [
       "40"
      ]
     },
     "execution_count": 39,
     "metadata": {},
     "output_type": "execute_result"
    }
   ],
   "source": [
    "add(10, 30)"
   ]
  },
  {
   "cell_type": "code",
   "execution_count": 40,
   "metadata": {
    "colab": {},
    "colab_type": "code",
    "id": "N1Kmls9pPBKS"
   },
   "outputs": [],
   "source": [
    "s = ['bob', 'charles', 'alex', 'teddy']\n",
    "s.sort()  "
   ]
  },
  {
   "cell_type": "code",
   "execution_count": 41,
   "metadata": {
    "colab": {
     "base_uri": "https://localhost:8080/",
     "height": 36
    },
    "colab_type": "code",
    "executionInfo": {
     "elapsed": 852,
     "status": "ok",
     "timestamp": 1598671360931,
     "user": {
      "displayName": "인천정보컴퓨터",
      "photoUrl": "",
      "userId": "06131215293709342244"
     },
     "user_tz": -540
    },
    "id": "GKbDIe3rPPQv",
    "outputId": "c53928d1-651f-4b58-902a-84cab04fb2bb"
   },
   "outputs": [
    {
     "name": "stdout",
     "output_type": "stream",
     "text": [
      "['alex', 'bob', 'charles', 'teddy']\n"
     ]
    }
   ],
   "source": [
    "print(s)"
   ]
  },
  {
   "cell_type": "markdown",
   "metadata": {
    "colab_type": "text",
    "id": "GBV87dzFPTGv"
   },
   "source": [
    "### 문자열의 길이를 리턴하는 함수 만들기"
   ]
  },
  {
   "cell_type": "code",
   "execution_count": 42,
   "metadata": {
    "colab": {
     "base_uri": "https://localhost:8080/",
     "height": 36
    },
    "colab_type": "code",
    "executionInfo": {
     "elapsed": 958,
     "status": "ok",
     "timestamp": 1598671441435,
     "user": {
      "displayName": "인천정보컴퓨터",
      "photoUrl": "",
      "userId": "06131215293709342244"
     },
     "user_tz": -540
    },
    "id": "k3K5ImJFPQ9Q",
    "outputId": "ad6a7a7f-db1c-4248-c35f-cb1e169ea4c8"
   },
   "outputs": [],
   "source": [
    "def str_len(s):\n",
    "    return len(s)"
   ]
  },
  {
   "cell_type": "code",
   "execution_count": 43,
   "metadata": {},
   "outputs": [
    {
     "data": {
      "text/plain": [
       "4"
      ]
     },
     "execution_count": 43,
     "metadata": {},
     "output_type": "execute_result"
    }
   ],
   "source": [
    "str_len(\"good\")"
   ]
  },
  {
   "cell_type": "code",
   "execution_count": 44,
   "metadata": {
    "colab": {},
    "colab_type": "code",
    "id": "DHj7Y_6WPkm2"
   },
   "outputs": [],
   "source": [
    "s.sort(key = str_len)  "
   ]
  },
  {
   "cell_type": "code",
   "execution_count": 45,
   "metadata": {
    "colab": {
     "base_uri": "https://localhost:8080/",
     "height": 36
    },
    "colab_type": "code",
    "executionInfo": {
     "elapsed": 525,
     "status": "ok",
     "timestamp": 1599179748317,
     "user": {
      "displayName": "인천정보컴퓨터",
      "photoUrl": "",
      "userId": "06131215293709342244"
     },
     "user_tz": -540
    },
    "id": "ygg42eixPsyN",
    "outputId": "77f79d5e-5c62-459d-bbae-8b7cc9cf3f20"
   },
   "outputs": [
    {
     "name": "stdout",
     "output_type": "stream",
     "text": [
      "['bob', 'alex', 'teddy', 'charles']\n"
     ]
    }
   ],
   "source": [
    "print(s)"
   ]
  },
  {
   "cell_type": "code",
   "execution_count": 46,
   "metadata": {},
   "outputs": [],
   "source": [
    "s.sort(reverse=True)"
   ]
  },
  {
   "cell_type": "code",
   "execution_count": 47,
   "metadata": {
    "scrolled": true
   },
   "outputs": [
    {
     "name": "stdout",
     "output_type": "stream",
     "text": [
      "['teddy', 'charles', 'bob', 'alex']\n"
     ]
    }
   ],
   "source": [
    "print(s)"
   ]
  },
  {
   "cell_type": "code",
   "execution_count": 48,
   "metadata": {
    "colab": {
     "base_uri": "https://localhost:8080/",
     "height": 36
    },
    "colab_type": "code",
    "executionInfo": {
     "elapsed": 705,
     "status": "ok",
     "timestamp": 1599179777458,
     "user": {
      "displayName": "인천정보컴퓨터",
      "photoUrl": "",
      "userId": "06131215293709342244"
     },
     "user_tz": -540
    },
    "id": "O5HUt_kUinFv",
    "outputId": "c43fb46c-6637-47d9-c806-dc212e9deb09"
   },
   "outputs": [
    {
     "data": {
      "text/plain": [
       "['bob', 'alex', 'teddy', 'charles']"
      ]
     },
     "execution_count": 48,
     "metadata": {},
     "output_type": "execute_result"
    }
   ],
   "source": [
    "s.sort(key = lambda s : len(s)) \n",
    "s"
   ]
  },
  {
   "cell_type": "code",
   "execution_count": 49,
   "metadata": {
    "colab": {
     "base_uri": "https://localhost:8080/",
     "height": 36
    },
    "colab_type": "code",
    "executionInfo": {
     "elapsed": 873,
     "status": "ok",
     "timestamp": 1598671528409,
     "user": {
      "displayName": "인천정보컴퓨터",
      "photoUrl": "",
      "userId": "06131215293709342244"
     },
     "user_tz": -540
    },
    "id": "3Qr7I_wRP2F2",
    "outputId": "37333df3-b77d-4255-9854-41bc2d5ed5d7"
   },
   "outputs": [
    {
     "name": "stdout",
     "output_type": "stream",
     "text": [
      "['bob', 'alex', 'teddy', 'charles']\n"
     ]
    }
   ],
   "source": [
    "print(s)"
   ]
  },
  {
   "cell_type": "code",
   "execution_count": 50,
   "metadata": {
    "colab": {
     "base_uri": "https://localhost:8080/",
     "height": 36
    },
    "colab_type": "code",
    "executionInfo": {
     "elapsed": 913,
     "status": "ok",
     "timestamp": 1598671654433,
     "user": {
      "displayName": "인천정보컴퓨터",
      "photoUrl": "",
      "userId": "06131215293709342244"
     },
     "user_tz": -540
    },
    "id": "9oPQUqDfQP2e",
    "outputId": "edd28adb-e602-4bc4-b75a-29b88348146d"
   },
   "outputs": [],
   "source": [
    "# 짝수 구분 함수 만들기\n",
    "def even(a):\n",
    "    if(a%2==0):\n",
    "        print(\"짝수\")\n",
    "        return\n",
    "    else:\n",
    "        print(\"홀수\")\n",
    "        return\n",
    "#return a % 2 ==0\n",
    "\n"
   ]
  },
  {
   "cell_type": "code",
   "execution_count": 51,
   "metadata": {},
   "outputs": [
    {
     "name": "stdout",
     "output_type": "stream",
     "text": [
      "홀수\n"
     ]
    }
   ],
   "source": [
    "even(51)"
   ]
  },
  {
   "cell_type": "code",
   "execution_count": 52,
   "metadata": {
    "colab": {
     "base_uri": "https://localhost:8080/",
     "height": 36
    },
    "colab_type": "code",
    "executionInfo": {
     "elapsed": 849,
     "status": "ok",
     "timestamp": 1598671681057,
     "user": {
      "displayName": "인천정보컴퓨터",
      "photoUrl": "",
      "userId": "06131215293709342244"
     },
     "user_tz": -540
    },
    "id": "OvjEn2mWP53D",
    "outputId": "0db65793-bd21-4cfe-b909-c51f3212a13b"
   },
   "outputs": [
    {
     "name": "stdout",
     "output_type": "stream",
     "text": [
      "홀수\n",
      "짝수\n",
      "홀수\n",
      "짝수\n",
      "홀수\n",
      "짝수\n",
      "홀수\n",
      "짝수\n",
      "홀수\n"
     ]
    },
    {
     "data": {
      "text/plain": [
       "[]"
      ]
     },
     "execution_count": 52,
     "metadata": {},
     "output_type": "execute_result"
    }
   ],
   "source": [
    "# filter(함수, 리스트)\n",
    "# 짝수만 가려주는 \n",
    "nums =[1,2,3,4,5,6,7,8,9]\n",
    "list(filter(even, nums))"
   ]
  },
  {
   "cell_type": "code",
   "execution_count": 53,
   "metadata": {
    "colab": {},
    "colab_type": "code",
    "id": "lVNaGzFbQfIj"
   },
   "outputs": [
    {
     "data": {
      "text/plain": [
       "[2, 4, 6, 8]"
      ]
     },
     "execution_count": 53,
     "metadata": {},
     "output_type": "execute_result"
    }
   ],
   "source": [
    "nums =[1,2,3,4,5,6,7,8,9]\n",
    "list(filter(lambda n:n % 2 == 0, nums))"
   ]
  },
  {
   "cell_type": "code",
   "execution_count": 54,
   "metadata": {
    "colab": {
     "base_uri": "https://localhost:8080/",
     "height": 36
    },
    "colab_type": "code",
    "executionInfo": {
     "elapsed": 906,
     "status": "ok",
     "timestamp": 1598671845828,
     "user": {
      "displayName": "인천정보컴퓨터",
      "photoUrl": "",
      "userId": "06131215293709342244"
     },
     "user_tz": -540
    },
    "id": "GvRqVRscQrJ1",
    "outputId": "80bf7aa5-d112-406c-9e88-2c907661bb6a"
   },
   "outputs": [
    {
     "name": "stdout",
     "output_type": "stream",
     "text": [
      "[1, 4, 27, 256, 3125, 46656, 823543, 16777216, 387420489]\n"
     ]
    }
   ],
   "source": [
    "# map : 필터는 하지 않지만, 리스트로 만든다\n",
    "# 리스트의 제곱을 한 숫자로 새로운 리스트\n",
    "\n",
    "nums =[1,2,3,4,5,6,7,8,9]\n",
    "nums_m=list(map(lambda n:n**n,nums))\n",
    "print(nums_m)"
   ]
  },
  {
   "cell_type": "code",
   "execution_count": 55,
   "metadata": {
    "colab": {
     "base_uri": "https://localhost:8080/",
     "height": 36
    },
    "colab_type": "code",
    "executionInfo": {
     "elapsed": 621,
     "status": "ok",
     "timestamp": 1599180215693,
     "user": {
      "displayName": "인천정보컴퓨터",
      "photoUrl": "",
      "userId": "06131215293709342244"
     },
     "user_tz": -540
    },
    "id": "96K34NRdRHVt",
    "outputId": "3abc17f6-d5ac-413f-abc4-160ddf33d084"
   },
   "outputs": [
    {
     "data": {
      "text/plain": [
       "[False, True, False, True, False, True, False, True, False]"
      ]
     },
     "execution_count": 55,
     "metadata": {},
     "output_type": "execute_result"
    }
   ],
   "source": [
    "nums =[1,2,3,4,5,6,7,8,9]\n",
    "list(map(lambda n:n%2==0, nums))"
   ]
  },
  {
   "cell_type": "code",
   "execution_count": 56,
   "metadata": {
    "colab": {
     "base_uri": "https://localhost:8080/",
     "height": 36
    },
    "colab_type": "code",
    "executionInfo": {
     "elapsed": 779,
     "status": "ok",
     "timestamp": 1599180306078,
     "user": {
      "displayName": "인천정보컴퓨터",
      "photoUrl": "",
      "userId": "06131215293709342244"
     },
     "user_tz": -540
    },
    "id": "Im7wZyR0RSlA",
    "outputId": "bc85b88a-0a26-4fbd-f76c-648cd83f8c50"
   },
   "outputs": [
    {
     "data": {
      "text/plain": [
       "17"
      ]
     },
     "execution_count": 56,
     "metadata": {},
     "output_type": "execute_result"
    }
   ],
   "source": [
    "import functools\n",
    "\n",
    "a = [1,3,5,8]\n",
    "\n",
    "# 두개의 숫자를 더하고, 4, 9, 17\n",
    "# 리스트의 모든 숫자의 합\n",
    "functools.reduce(lambda x, y: x+y, a)"
   ]
  },
  {
   "cell_type": "code",
   "execution_count": 57,
   "metadata": {
    "colab": {
     "base_uri": "https://localhost:8080/",
     "height": 36
    },
    "colab_type": "code",
    "executionInfo": {
     "elapsed": 609,
     "status": "ok",
     "timestamp": 1599180327402,
     "user": {
      "displayName": "인천정보컴퓨터",
      "photoUrl": "",
      "userId": "06131215293709342244"
     },
     "user_tz": -540
    },
    "id": "8S0PfRtQSKyo",
    "outputId": "9e32051c-a40c-4add-b4f4-48d68e8d4d60"
   },
   "outputs": [
    {
     "data": {
      "text/plain": [
       "120"
      ]
     },
     "execution_count": 57,
     "metadata": {},
     "output_type": "execute_result"
    }
   ],
   "source": [
    "# 리스트의 모든 숫자의 곱\n",
    "a=[1,3,5,8]\n",
    "functools.reduce(lambda x,y:x*y,a)"
   ]
  },
  {
   "cell_type": "markdown",
   "metadata": {
    "colab_type": "text",
    "id": "S2wpcWhISVjt"
   },
   "source": [
    "함수 연습문제\n",
    "1. 주어진 숫자 리스트의 평균을 구하는 함수를 출력하시오.\n",
    "2. 해당 숫자가 소수인지 아닌지 판별하시오.\n",
    "3. 2부터 해당 숫자사이에 소수가 몇개인지 출력하는 함수를 구하시오."
   ]
  },
  {
   "cell_type": "code",
   "execution_count": 58,
   "metadata": {
    "colab": {},
    "colab_type": "code",
    "id": "2TrtyFrwSQyd"
   },
   "outputs": [],
   "source": [
    "# 입력:숫자 리스트\n",
    "# 출력: 평균\n",
    "\n",
    "def mean(num):\n",
    "    sum = 0\n",
    "    for i in num:\n",
    "        sum += i\n",
    "    return sum / len(num)\n",
    "     "
   ]
  },
  {
   "cell_type": "code",
   "execution_count": 59,
   "metadata": {
    "colab": {
     "base_uri": "https://localhost:8080/",
     "height": 36
    },
    "colab_type": "code",
    "executionInfo": {
     "elapsed": 1037,
     "status": "ok",
     "timestamp": 1598672380752,
     "user": {
      "displayName": "인천정보컴퓨터",
      "photoUrl": "",
      "userId": "06131215293709342244"
     },
     "user_tz": -540
    },
    "id": "Pd9A3F2uTFze",
    "outputId": "9b2a43a3-8e98-4161-a859-5f82f44a7f08"
   },
   "outputs": [
    {
     "name": "stdout",
     "output_type": "stream",
     "text": [
      "1169.1666666666667\n"
     ]
    }
   ],
   "source": [
    "print(mean([1,2,3,4,5,7000]))"
   ]
  },
  {
   "cell_type": "code",
   "execution_count": 78,
   "metadata": {
    "colab": {},
    "colab_type": "code",
    "id": "SIwSk6QKTKIN"
   },
   "outputs": [],
   "source": [
    "# 리스트의 평균 구하기\n",
    "\n",
    "#def mean2()"
   ]
  },
  {
   "cell_type": "code",
   "execution_count": 79,
   "metadata": {
    "colab": {
     "base_uri": "https://localhost:8080/",
     "height": 36
    },
    "colab_type": "code",
    "executionInfo": {
     "elapsed": 887,
     "status": "ok",
     "timestamp": 1598672435456,
     "user": {
      "displayName": "인천정보컴퓨터",
      "photoUrl": "",
      "userId": "06131215293709342244"
     },
     "user_tz": -540
    },
    "id": "hFxnwccYTTpg",
    "outputId": "86dfeac3-6393-46aa-cbcd-634f26183873"
   },
   "outputs": [],
   "source": [
    "#print(mean2([1,2,3,4,5]))"
   ]
  },
  {
   "cell_type": "markdown",
   "metadata": {
    "colab_type": "text",
    "id": "MnGBkHhhoVNq"
   },
   "source": [
    "### [문제3] 소수인지 아닌지만 판별\n",
    "\n",
    "\n",
    "---\n"
   ]
  },
  {
   "cell_type": "code",
   "execution_count": 72,
   "metadata": {
    "colab": {},
    "colab_type": "code",
    "id": "I9QCWHvhTXT0"
   },
   "outputs": [],
   "source": [
    "# 소수판별(1과 자기자신으로만 나눠지는 수)\n",
    "# 입력 : 양의 정수 1개//15이면 2,3,4,5,...14\n",
    "# 출력 : boolean\n",
    "\n",
    "def is_prime(num):\n",
    "    for i in range(2,num):\n",
    "        \n",
    "        if num%i == 0:\n",
    "            return False\n",
    "        else:\n",
    "            return True\n",
    "\n",
    "\n",
    "\n"
   ]
  },
  {
   "cell_type": "code",
   "execution_count": 80,
   "metadata": {
    "colab": {
     "base_uri": "https://localhost:8080/",
     "height": 36
    },
    "colab_type": "code",
    "executionInfo": {
     "elapsed": 896,
     "status": "ok",
     "timestamp": 1598672682124,
     "user": {
      "displayName": "인천정보컴퓨터",
      "photoUrl": "",
      "userId": "06131215293709342244"
     },
     "user_tz": -540
    },
    "id": "AARWChqlUQ4j",
    "outputId": "35ce2cba-6cf3-43dc-c5f0-0ec5479cfa03"
   },
   "outputs": [
    {
     "data": {
      "text/plain": [
       "False"
      ]
     },
     "execution_count": 80,
     "metadata": {},
     "output_type": "execute_result"
    }
   ],
   "source": [
    "is_prime(100)"
   ]
  },
  {
   "cell_type": "code",
   "execution_count": 81,
   "metadata": {
    "colab": {
     "base_uri": "https://localhost:8080/",
     "height": 55
    },
    "colab_type": "code",
    "executionInfo": {
     "elapsed": 821,
     "status": "ok",
     "timestamp": 1598672699443,
     "user": {
      "displayName": "인천정보컴퓨터",
      "photoUrl": "",
      "userId": "06131215293709342244"
     },
     "user_tz": -540
    },
    "id": "CkQKc1qcUThw",
    "outputId": "915349c4-8196-4f2f-ad4e-93894dafdb12"
   },
   "outputs": [
    {
     "data": {
      "text/plain": [
       "True"
      ]
     },
     "execution_count": 81,
     "metadata": {},
     "output_type": "execute_result"
    }
   ],
   "source": [
    "is_prime(17)"
   ]
  },
  {
   "cell_type": "code",
   "execution_count": 82,
   "metadata": {
    "colab": {
     "base_uri": "https://localhost:8080/",
     "height": 55
    },
    "colab_type": "code",
    "executionInfo": {
     "elapsed": 962,
     "status": "ok",
     "timestamp": 1598672711892,
     "user": {
      "displayName": "인천정보컴퓨터",
      "photoUrl": "",
      "userId": "06131215293709342244"
     },
     "user_tz": -540
    },
    "id": "vvwhDcmXUXve",
    "outputId": "7d5a6d21-4c3b-43a5-d49e-c7f160b796c4"
   },
   "outputs": [
    {
     "data": {
      "text/plain": [
       "True"
      ]
     },
     "execution_count": 82,
     "metadata": {},
     "output_type": "execute_result"
    }
   ],
   "source": [
    "is_prime(5)"
   ]
  },
  {
   "cell_type": "markdown",
   "metadata": {
    "colab_type": "text",
    "id": "8D4csY3voZXB"
   },
   "source": [
    "### [문제4] 소수의 개수\n",
    "\n",
    "\n",
    "---\n"
   ]
  },
  {
   "cell_type": "code",
   "execution_count": 76,
   "metadata": {
    "colab": {},
    "colab_type": "code",
    "id": "hnlHHw7cUawv"
   },
   "outputs": [],
   "source": [
    "# 소수판별(1과 자기자신으로만 나눠지는 수)\n",
    "# 입력 : 양의 정수 1개//15이면 2,3,4,5,...14\n",
    "# 출력 : boolean, 2와 해당숫자 사이의 소수는 4개...\n",
    "\n",
    "def num_prime(num):\n",
    "    cnt=0\n",
    "    for i in range(2,num+1):\n",
    "        if is_prime(i):\n",
    "            cnt += 1\n",
    "    return cnt\n",
    "\n"
   ]
  },
  {
   "cell_type": "code",
   "execution_count": 77,
   "metadata": {
    "colab": {
     "base_uri": "https://localhost:8080/",
     "height": 73
    },
    "colab_type": "code",
    "executionInfo": {
     "elapsed": 888,
     "status": "ok",
     "timestamp": 1598672987992,
     "user": {
      "displayName": "인천정보컴퓨터",
      "photoUrl": "",
      "userId": "06131215293709342244"
     },
     "user_tz": -540
    },
    "id": "chnOrI3SVGfs",
    "outputId": "2f16a228-3f85-426d-9b9d-8dda7c839f3c"
   },
   "outputs": [
    {
     "name": "stdout",
     "output_type": "stream",
     "text": [
      "49\n",
      "3\n",
      "1\n"
     ]
    }
   ],
   "source": [
    "print(num_prime(100))\n",
    "print(num_prime(7))\n",
    "print(num_prime(3)) # 프린트로 확인"
   ]
  },
  {
   "cell_type": "code",
   "execution_count": null,
   "metadata": {
    "colab": {},
    "colab_type": "code",
    "id": "BXnlY54QVeMw"
   },
   "outputs": [],
   "source": []
  }
 ],
 "metadata": {
  "colab": {
   "authorship_tag": "ABX9TyP313k7E3l+oWaCw6SEM0jm",
   "collapsed_sections": [],
   "name": "10. Python Programming_함수_학생용.ipynb",
   "provenance": []
  },
  "kernelspec": {
   "display_name": "Python 3",
   "language": "python",
   "name": "python3"
  },
  "language_info": {
   "codemirror_mode": {
    "name": "ipython",
    "version": 3
   },
   "file_extension": ".py",
   "mimetype": "text/x-python",
   "name": "python",
   "nbconvert_exporter": "python",
   "pygments_lexer": "ipython3",
   "version": "3.7.4"
  }
 },
 "nbformat": 4,
 "nbformat_minor": 1
}
