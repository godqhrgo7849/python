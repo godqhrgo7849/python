{
  "nbformat": 4,
  "nbformat_minor": 0,
  "metadata": {
    "colab": {
      "name": "5일차-1차시.ipynb",
      "provenance": [],
      "authorship_tag": "ABX9TyN2nnryUa6x75jdmp1ybgQg",
      "include_colab_link": true
    },
    "kernelspec": {
      "name": "python3",
      "display_name": "Python 3"
    }
  },
  "cells": [
    {
      "cell_type": "markdown",
      "metadata": {
        "id": "view-in-github",
        "colab_type": "text"
      },
      "source": [
        "<a href=\"https://colab.research.google.com/github/godqhrgo7849/python/blob/master/5%EC%9D%BC%EC%B0%A8_1%EC%B0%A8%EC%8B%9C.ipynb\" target=\"_parent\"><img src=\"https://colab.research.google.com/assets/colab-badge.svg\" alt=\"Open In Colab\"/></a>"
      ]
    },
    {
      "cell_type": "markdown",
      "metadata": {
        "id": "ZBALWzCE5boY",
        "colab_type": "text"
      },
      "source": [
        "# 1.while\n",
        "초기값\n",
        "조건\n",
        "실행문\n",
        "증감"
      ]
    },
    {
      "cell_type": "code",
      "metadata": {
        "id": "5k3JuyRl5rLM",
        "colab_type": "code",
        "colab": {
          "base_uri": "https://localhost:8080/",
          "height": 35
        },
        "outputId": "7c91b571-4675-4ed4-f860-5e5c7fd4ea95"
      },
      "source": [
        "for i in range(1,11,2) :\n",
        "  print(i,end=' ')"
      ],
      "execution_count": 6,
      "outputs": [
        {
          "output_type": "stream",
          "text": [
            "1 3 5 7 9 "
          ],
          "name": "stdout"
        }
      ]
    },
    {
      "cell_type": "code",
      "metadata": {
        "id": "kuSK3jx34S0P",
        "colab_type": "code",
        "colab": {
          "base_uri": "https://localhost:8080/",
          "height": 35
        },
        "outputId": "03ae1b03-da21-4c61-8ea1-e1a08e7de0ae"
      },
      "source": [
        "i = 1\n",
        "while(i<11) :\n",
        "  print(i,end = ' ')\n",
        "  i+=1"
      ],
      "execution_count": 8,
      "outputs": [
        {
          "output_type": "stream",
          "text": [
            "1 2 3 4 5 6 7 8 9 10 "
          ],
          "name": "stdout"
        }
      ]
    },
    {
      "cell_type": "code",
      "metadata": {
        "id": "OLKJek_o5lU9",
        "colab_type": "code",
        "colab": {
          "base_uri": "https://localhost:8080/",
          "height": 35
        },
        "outputId": "4a725d37-5e66-4fdd-c3fa-8a45e7263c11"
      },
      "source": [
        "c=list(range(10,110,10))\n",
        "print(c)"
      ],
      "execution_count": 21,
      "outputs": [
        {
          "output_type": "stream",
          "text": [
            "[10, 20, 30, 40, 50, 60, 70, 80, 90, 100]\n"
          ],
          "name": "stdout"
        }
      ]
    },
    {
      "cell_type": "code",
      "metadata": {
        "id": "iGYCaYzM64Gk",
        "colab_type": "code",
        "colab": {
          "base_uri": "https://localhost:8080/",
          "height": 35
        },
        "outputId": "282f92eb-4ac2-4a5e-b6ed-f8331b4a342a"
      },
      "source": [
        "a=0\n",
        "while(a < len(c)) :\n",
        "  print(c[a],end = ' ')\n",
        "  a+=1"
      ],
      "execution_count": 22,
      "outputs": [
        {
          "output_type": "stream",
          "text": [
            "10 20 30 40 50 60 70 80 90 100 "
          ],
          "name": "stdout"
        }
      ]
    },
    {
      "cell_type": "code",
      "metadata": {
        "id": "UM0mMQEr7dcu",
        "colab_type": "code",
        "colab": {
          "base_uri": "https://localhost:8080/",
          "height": 35
        },
        "outputId": "51059fdf-5c72-4072-ca73-69698878254e"
      },
      "source": [
        "lunch = ['밥,죽,김밥,라면,자장면']\n",
        "i=0\n",
        "while(i < len(lunch)) :\n",
        "  print(lunch[i])\n",
        "  i+=1"
      ],
      "execution_count": 41,
      "outputs": [
        {
          "output_type": "stream",
          "text": [
            "밥,죽,김밥,라면,자장면\n"
          ],
          "name": "stdout"
        }
      ]
    },
    {
      "cell_type": "code",
      "metadata": {
        "id": "l29HXydO75Ws",
        "colab_type": "code",
        "colab": {
          "base_uri": "https://localhost:8080/",
          "height": 35
        },
        "outputId": "01463fd6-80b7-400f-a552-41ed2d6ec46d"
      },
      "source": [
        "lunch.reverse()\n",
        "lunch"
      ],
      "execution_count": 42,
      "outputs": [
        {
          "output_type": "execute_result",
          "data": {
            "text/plain": [
              "['밥,죽,김밥,라면,자장면']"
            ]
          },
          "metadata": {
            "tags": []
          },
          "execution_count": 42
        }
      ]
    },
    {
      "cell_type": "code",
      "metadata": {
        "id": "2ZY4LbBf8d_Q",
        "colab_type": "code",
        "colab": {
          "base_uri": "https://localhost:8080/",
          "height": 35
        },
        "outputId": "8546e802-405f-486a-a384-419217b48780"
      },
      "source": [
        "lunch.sort()\n",
        "lunch"
      ],
      "execution_count": 43,
      "outputs": [
        {
          "output_type": "execute_result",
          "data": {
            "text/plain": [
              "['밥,죽,김밥,라면,자장면']"
            ]
          },
          "metadata": {
            "tags": []
          },
          "execution_count": 43
        }
      ]
    },
    {
      "cell_type": "code",
      "metadata": {
        "id": "UUDz_6LD8iQ9",
        "colab_type": "code",
        "colab": {
          "base_uri": "https://localhost:8080/",
          "height": 35
        },
        "outputId": "6fc6da26-a8f1-4dd3-b528-c4dab2a3ce61"
      },
      "source": [
        "import random as r\n",
        "r.shuffle(lunch)\n",
        "lunch"
      ],
      "execution_count": 46,
      "outputs": [
        {
          "output_type": "execute_result",
          "data": {
            "text/plain": [
              "['밥,죽,김밥,라면,자장면']"
            ]
          },
          "metadata": {
            "tags": []
          },
          "execution_count": 46
        }
      ]
    },
    {
      "cell_type": "markdown",
      "metadata": {
        "id": "XO9qDE1z9CgP",
        "colab_type": "text"
      },
      "source": [
        "break ~ continue\n"
      ]
    },
    {
      "cell_type": "code",
      "metadata": {
        "id": "w8sED5tG9IcG",
        "colab_type": "code",
        "colab": {
          "base_uri": "https://localhost:8080/",
          "height": 35
        },
        "outputId": "ab272793-2079-4a37-bc3a-22cc6baff7f6"
      },
      "source": [
        "i = 1\n",
        "while(i<11) :\n",
        "  print(i,end = ' ')\n",
        "  i+=1\n",
        "  if i<7 :\n",
        "    continue\n",
        "  break"
      ],
      "execution_count": 47,
      "outputs": [
        {
          "output_type": "stream",
          "text": [
            "1 2 3 4 5 6 "
          ],
          "name": "stdout"
        }
      ]
    },
    {
      "cell_type": "markdown",
      "metadata": {
        "id": "rWW76FB-9iG4",
        "colab_type": "text"
      },
      "source": [
        "1.10부터 10단위 100까지의 num List 만들기 : range() 이용\n",
        "2. while문을 이용하여 List 값 출력하기 ```10/20...\n",
        "3. List 합계와 평균구하기\n",
        "4. continue를 이용하여 50 빼고 출력하기\n",
        "5. break를 이용하여 80까지만 출력하기"
      ]
    },
    {
      "cell_type": "code",
      "metadata": {
        "id": "jjvFWX7x92dA",
        "colab_type": "code",
        "colab": {
          "base_uri": "https://localhost:8080/",
          "height": 71
        },
        "outputId": "6d56fe63-c4fb-43a2-949a-ea65bd7c9941"
      },
      "source": [
        "num =list(range(10,110,10))\n",
        "i=0\n",
        "sum=0\n",
        "avr=0\n",
        "while(i<len(num)) :\n",
        "  if num[i] == 50 :\n",
        "    i+=1\n",
        "    continue\n",
        "  if num[i] == 90 :\n",
        "    break\n",
        "  print(num[i],end=' ')\n",
        "  sum+=int(num[i])\n",
        "  i+=1\n",
        "avr = sum/(i-1)\n",
        "print('\\n합계 ',sum)\n",
        "print('평균 ',avr)"
      ],
      "execution_count": 16,
      "outputs": [
        {
          "output_type": "stream",
          "text": [
            "10 20 30 40 60 70 80 \n",
            "합계  310\n",
            "평균  44.285714285714285\n"
          ],
          "name": "stdout"
        }
      ]
    },
    {
      "cell_type": "code",
      "metadata": {
        "id": "jOoIz6wTCyVo",
        "colab_type": "code",
        "colab": {
          "base_uri": "https://localhost:8080/",
          "height": 71
        },
        "outputId": "a8c53802-15de-4783-ef36-387138e53f67"
      },
      "source": [
        "num = range(10,110,10)\n",
        "i=0\n",
        "sum = 0;\n",
        "while(i<len(num)) :\n",
        "  if int(num[i])== 50 :\n",
        "    i+=1  \n",
        "    continue\n",
        "  elif int(num[i]) > 80 :\n",
        "    break\n",
        "  print(num[i],end=' ')\n",
        "  sum += num[i]\n",
        "  i+=1\n",
        "print('\\n합계 = ',sum)\n",
        "print('평균 = ',sum/(i-1))"
      ],
      "execution_count": 26,
      "outputs": [
        {
          "output_type": "stream",
          "text": [
            "10 20 30 40 60 70 80 \n",
            "합계 =  310\n",
            "평균 =  44.285714285714285\n"
          ],
          "name": "stdout"
        }
      ]
    },
    {
      "cell_type": "markdown",
      "metadata": {
        "id": "iFsAUbpoCuL2",
        "colab_type": "text"
      },
      "source": [
        "입력값이 exit이면 멈추고 그렇지 않으면 계속 입력 받고 출력받기"
      ]
    },
    {
      "cell_type": "code",
      "metadata": {
        "id": "zgfULj4T8zdH",
        "colab_type": "code",
        "colab": {
          "base_uri": "https://localhost:8080/",
          "height": 197
        },
        "outputId": "e7333c8d-19c5-4735-fae4-2490c9ef5b9d"
      },
      "source": [
        "echo = input\n",
        "while (echo!='exit'):\n",
        "  echo = input('입력>>>')\n",
        "  print('입력값 :',echo)"
      ],
      "execution_count": 36,
      "outputs": [
        {
          "output_type": "stream",
          "text": [
            "입력>>>1\n",
            "입력값 : 1\n",
            "입력>>>\n",
            "입력값 : \n",
            "입력>>>2\n",
            "입력값 : 2\n",
            "입력>>>4\n",
            "입력값 : 4\n",
            "입력>>>exit\n",
            "입력값 : exit\n"
          ],
          "name": "stdout"
        }
      ]
    },
    {
      "cell_type": "markdown",
      "metadata": {
        "id": "STkWTn5aIzlr",
        "colab_type": "text"
      },
      "source": [
        "[연습문제]\n",
        "---\n",
        "id가 같으면 회원입니다.\n",
        "그렇지 않으면 회원가입\n",
        "* id = injungsan\n"
      ]
    },
    {
      "cell_type": "code",
      "metadata": {
        "id": "EIMy9DDdMcQt",
        "colab_type": "code",
        "colab": {}
      },
      "source": [
        "i = input('id입력')\n",
        "if i == injungsan :\n",
        "  print('회원입니다.')\n",
        "else :\n",
        "  print('회원가입')"
      ],
      "execution_count": 0,
      "outputs": []
    }
  ]
}