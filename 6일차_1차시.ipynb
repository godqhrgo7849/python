{
  "nbformat": 4,
  "nbformat_minor": 0,
  "metadata": {
    "colab": {
      "name": "6일차-1차시.ipynb",
      "provenance": [],
      "collapsed_sections": [],
      "authorship_tag": "ABX9TyPNtq1ui+SsZjT64lLC/rsU",
      "include_colab_link": true
    },
    "kernelspec": {
      "name": "python3",
      "display_name": "Python 3"
    }
  },
  "cells": [
    {
      "cell_type": "markdown",
      "metadata": {
        "id": "view-in-github",
        "colab_type": "text"
      },
      "source": [
        "<a href=\"https://colab.research.google.com/github/godqhrgo7849/python/blob/master/6%EC%9D%BC%EC%B0%A8_1%EC%B0%A8%EC%8B%9C.ipynb\" target=\"_parent\"><img src=\"https://colab.research.google.com/assets/colab-badge.svg\" alt=\"Open In Colab\"/></a>"
      ]
    },
    {
      "cell_type": "code",
      "metadata": {
        "id": "xJa-YttL817o",
        "colab_type": "code",
        "outputId": "8fa060c3-f4f2-4d88-e7fc-d32a3d27d2d0",
        "colab": {
          "base_uri": "https://localhost:8080/",
          "height": 35
        }
      },
      "source": [
        "sub = ['국','영','수','정보']\n",
        "for i in range(len(sub)):\n",
        "  print(i+1,'교시',sub[i],end=' ')"
      ],
      "execution_count": 0,
      "outputs": [
        {
          "output_type": "stream",
          "text": [
            "1 교시 국 2 교시 영 3 교시 수 4 교시 정보 "
          ],
          "name": "stdout"
        }
      ]
    },
    {
      "cell_type": "code",
      "metadata": {
        "id": "0znwV-_S-_HA",
        "colab_type": "code",
        "outputId": "f6125944-1501-4680-877e-b9640b305d97",
        "colab": {
          "base_uri": "https://localhost:8080/",
          "height": 89
        }
      },
      "source": [
        "sub = ['국','영','수','정보']\n",
        "for i in range(len(sub)):\n",
        "  if sub[i] == '수' :\n",
        "    print(i+1,'교시', sub[i], '해당')\n",
        "  else :\n",
        "    print(i+1,'교시',sub[i],'해당없음')"
      ],
      "execution_count": 0,
      "outputs": [
        {
          "output_type": "stream",
          "text": [
            "1 교시 국 해당없음\n",
            "2 교시 영 해당없음\n",
            "3 교시 수 해당\n",
            "4 교시 정보 해당없음\n"
          ],
          "name": "stdout"
        }
      ]
    },
    {
      "cell_type": "code",
      "metadata": {
        "id": "_rQV2xOV_bvG",
        "colab_type": "code",
        "outputId": "4e404bb9-8011-4f5d-bda3-82409bebcde2",
        "colab": {
          "base_uri": "https://localhost:8080/",
          "height": 89
        }
      },
      "source": [
        "for i, val in enumerate(sub):\n",
        "  print(i+1, val)"
      ],
      "execution_count": 0,
      "outputs": [
        {
          "output_type": "stream",
          "text": [
            "1 국\n",
            "2 영\n",
            "3 수\n",
            "4 정보\n"
          ],
          "name": "stdout"
        }
      ]
    },
    {
      "cell_type": "code",
      "metadata": {
        "id": "uq8VlDjM_ye-",
        "colab_type": "code",
        "outputId": "0bf64636-7f2d-4c19-edd5-43bac0fad9b4",
        "colab": {
          "base_uri": "https://localhost:8080/",
          "height": 197
        }
      },
      "source": [
        "for i in range(1,11) :\n",
        "  if i % 2==0 :\n",
        "    print('파이썬')\n",
        "  else :\n",
        "    print('야~ 나도 파이썬 할 수 있어')"
      ],
      "execution_count": 0,
      "outputs": [
        {
          "output_type": "stream",
          "text": [
            "야~ 나도 파이썬 할 수 있어\n",
            "파이썬\n",
            "야~ 나도 파이썬 할 수 있어\n",
            "파이썬\n",
            "야~ 나도 파이썬 할 수 있어\n",
            "파이썬\n",
            "야~ 나도 파이썬 할 수 있어\n",
            "파이썬\n",
            "야~ 나도 파이썬 할 수 있어\n",
            "파이썬\n"
          ],
          "name": "stdout"
        }
      ]
    },
    {
      "cell_type": "code",
      "metadata": {
        "id": "bdOt9mjcAFL5",
        "colab_type": "code",
        "outputId": "84f36e0c-d0e1-40eb-cd49-6001fd703955",
        "colab": {
          "base_uri": "https://localhost:8080/",
          "height": 35
        }
      },
      "source": [
        "import sys\n",
        "sys.version_info"
      ],
      "execution_count": 0,
      "outputs": [
        {
          "output_type": "execute_result",
          "data": {
            "text/plain": [
              "sys.version_info(major=3, minor=6, micro=9, releaselevel='final', serial=0)"
            ]
          },
          "metadata": {
            "tags": []
          },
          "execution_count": 15
        }
      ]
    },
    {
      "cell_type": "code",
      "metadata": {
        "id": "FUjYU599BpH3",
        "colab_type": "code",
        "colab": {}
      },
      "source": [
        "import this"
      ],
      "execution_count": 0,
      "outputs": []
    },
    {
      "cell_type": "code",
      "metadata": {
        "id": "eSauJNRcCGYZ",
        "colab_type": "code",
        "outputId": "2cb054a8-3d97-4701-aceb-8af39beb9a1a",
        "colab": {
          "base_uri": "https://localhost:8080/",
          "height": 35
        }
      },
      "source": [
        "True"
      ],
      "execution_count": 0,
      "outputs": [
        {
          "output_type": "execute_result",
          "data": {
            "text/plain": [
              "True"
            ]
          },
          "metadata": {
            "tags": []
          },
          "execution_count": 20
        }
      ]
    },
    {
      "cell_type": "code",
      "metadata": {
        "id": "r9Eqb2fcCSUc",
        "colab_type": "code",
        "outputId": "f232123d-a3e8-4b81-a090-29dcb459912a",
        "colab": {
          "base_uri": "https://localhost:8080/",
          "height": 35
        }
      },
      "source": [
        "True == 0"
      ],
      "execution_count": 0,
      "outputs": [
        {
          "output_type": "execute_result",
          "data": {
            "text/plain": [
              "False"
            ]
          },
          "metadata": {
            "tags": []
          },
          "execution_count": 21
        }
      ]
    },
    {
      "cell_type": "code",
      "metadata": {
        "id": "LvVUhQWjCTu0",
        "colab_type": "code",
        "outputId": "52dbc3f3-d139-4a25-a3f1-ed4e31041377",
        "colab": {
          "base_uri": "https://localhost:8080/",
          "height": 35
        }
      },
      "source": [
        "False != 1"
      ],
      "execution_count": 0,
      "outputs": [
        {
          "output_type": "execute_result",
          "data": {
            "text/plain": [
              "True"
            ]
          },
          "metadata": {
            "tags": []
          },
          "execution_count": 24
        }
      ]
    },
    {
      "cell_type": "code",
      "metadata": {
        "id": "tVa7wwprCU-8",
        "colab_type": "code",
        "outputId": "d216c5d7-0be8-4711-e1b3-17003feb7e72",
        "colab": {
          "base_uri": "https://localhost:8080/",
          "height": 35
        }
      },
      "source": [
        "False != 0"
      ],
      "execution_count": 0,
      "outputs": [
        {
          "output_type": "execute_result",
          "data": {
            "text/plain": [
              "False"
            ]
          },
          "metadata": {
            "tags": []
          },
          "execution_count": 25
        }
      ]
    },
    {
      "cell_type": "code",
      "metadata": {
        "id": "QnSjJz7jCXUc",
        "colab_type": "code",
        "outputId": "5425fb9a-7dfe-4403-b8ad-2dde4e5c51a0",
        "colab": {
          "base_uri": "https://localhost:8080/",
          "height": 35
        }
      },
      "source": [
        "True == False"
      ],
      "execution_count": 0,
      "outputs": [
        {
          "output_type": "execute_result",
          "data": {
            "text/plain": [
              "False"
            ]
          },
          "metadata": {
            "tags": []
          },
          "execution_count": 26
        }
      ]
    },
    {
      "cell_type": "code",
      "metadata": {
        "id": "yISnKIJaCp0E",
        "colab_type": "code",
        "outputId": "617abc8f-c74e-48a0-ab33-c75483d1cf24",
        "colab": {
          "base_uri": "https://localhost:8080/",
          "height": 35
        }
      },
      "source": [
        "True and True"
      ],
      "execution_count": 0,
      "outputs": [
        {
          "output_type": "execute_result",
          "data": {
            "text/plain": [
              "True"
            ]
          },
          "metadata": {
            "tags": []
          },
          "execution_count": 27
        }
      ]
    },
    {
      "cell_type": "code",
      "metadata": {
        "id": "F4Xmpm8mCrvM",
        "colab_type": "code",
        "outputId": "b2fc6ca5-9f60-422d-faaf-b3ce9f2aeb7e",
        "colab": {
          "base_uri": "https://localhost:8080/",
          "height": 35
        }
      },
      "source": [
        "True and False"
      ],
      "execution_count": 0,
      "outputs": [
        {
          "output_type": "execute_result",
          "data": {
            "text/plain": [
              "False"
            ]
          },
          "metadata": {
            "tags": []
          },
          "execution_count": 28
        }
      ]
    },
    {
      "cell_type": "code",
      "metadata": {
        "id": "NnlLGxojCtDc",
        "colab_type": "code",
        "outputId": "7bbf3f13-e4cc-4328-c519-8efc175785db",
        "colab": {
          "base_uri": "https://localhost:8080/",
          "height": 35
        }
      },
      "source": [
        "True or False"
      ],
      "execution_count": 0,
      "outputs": [
        {
          "output_type": "execute_result",
          "data": {
            "text/plain": [
              "True"
            ]
          },
          "metadata": {
            "tags": []
          },
          "execution_count": 29
        }
      ]
    },
    {
      "cell_type": "code",
      "metadata": {
        "id": "Fhm9_5JLCvcs",
        "colab_type": "code",
        "outputId": "3bd0b184-7456-48a5-a2a6-41ffc096c844",
        "colab": {
          "base_uri": "https://localhost:8080/",
          "height": 35
        }
      },
      "source": [
        "True or True"
      ],
      "execution_count": 0,
      "outputs": [
        {
          "output_type": "execute_result",
          "data": {
            "text/plain": [
              "True"
            ]
          },
          "metadata": {
            "tags": []
          },
          "execution_count": 30
        }
      ]
    },
    {
      "cell_type": "code",
      "metadata": {
        "id": "qfEYOyQOCx0-",
        "colab_type": "code",
        "outputId": "2267bbc7-318a-484b-e486-19761e90e44a",
        "colab": {
          "base_uri": "https://localhost:8080/",
          "height": 35
        }
      },
      "source": [
        "eng = 'Korea COVID19'\n",
        "eng"
      ],
      "execution_count": 0,
      "outputs": [
        {
          "output_type": "execute_result",
          "data": {
            "text/plain": [
              "'Korea COVID19'"
            ]
          },
          "metadata": {
            "tags": []
          },
          "execution_count": 31
        }
      ]
    },
    {
      "cell_type": "code",
      "metadata": {
        "id": "YvwHJ_1iDQe0",
        "colab_type": "code",
        "outputId": "aea1607f-b47a-4392-a2f0-da77d6323e95",
        "colab": {
          "base_uri": "https://localhost:8080/",
          "height": 35
        }
      },
      "source": [
        "eng.lower()"
      ],
      "execution_count": 0,
      "outputs": [
        {
          "output_type": "execute_result",
          "data": {
            "text/plain": [
              "'korea covid19'"
            ]
          },
          "metadata": {
            "tags": []
          },
          "execution_count": 33
        }
      ]
    },
    {
      "cell_type": "code",
      "metadata": {
        "id": "Ehe3IoLCDebk",
        "colab_type": "code",
        "outputId": "4b50a0fa-1cf5-4e5e-dbaa-3444be65e71e",
        "colab": {
          "base_uri": "https://localhost:8080/",
          "height": 35
        }
      },
      "source": [
        "eng.upper()"
      ],
      "execution_count": 0,
      "outputs": [
        {
          "output_type": "execute_result",
          "data": {
            "text/plain": [
              "'KOREA COVID19'"
            ]
          },
          "metadata": {
            "tags": []
          },
          "execution_count": 34
        }
      ]
    },
    {
      "cell_type": "code",
      "metadata": {
        "id": "1LdWOcjrDfy8",
        "colab_type": "code",
        "colab": {}
      },
      "source": [
        "data = []"
      ],
      "execution_count": 0,
      "outputs": []
    },
    {
      "cell_type": "code",
      "metadata": {
        "id": "YUp2xSMjDqwM",
        "colab_type": "code",
        "colab": {}
      },
      "source": [
        "data.append('java')\n",
        "data.append('python')\n",
        "data.append('c')"
      ],
      "execution_count": 0,
      "outputs": []
    },
    {
      "cell_type": "code",
      "metadata": {
        "id": "5xF0xq5oD8rl",
        "colab_type": "code",
        "outputId": "aa65bbd8-1dbe-4484-cdd5-2995e006a1fe",
        "colab": {
          "base_uri": "https://localhost:8080/",
          "height": 35
        }
      },
      "source": [
        "data"
      ],
      "execution_count": 0,
      "outputs": [
        {
          "output_type": "execute_result",
          "data": {
            "text/plain": [
              "['java', 'python', 'c']"
            ]
          },
          "metadata": {
            "tags": []
          },
          "execution_count": 48
        }
      ]
    },
    {
      "cell_type": "code",
      "metadata": {
        "id": "XLFQumO2D-Dl",
        "colab_type": "code",
        "outputId": "b1515c85-4b9d-49d0-f55a-8fdd9d893eca",
        "colab": {
          "base_uri": "https://localhost:8080/",
          "height": 35
        }
      },
      "source": [
        "type(data)"
      ],
      "execution_count": 0,
      "outputs": [
        {
          "output_type": "execute_result",
          "data": {
            "text/plain": [
              "list"
            ]
          },
          "metadata": {
            "tags": []
          },
          "execution_count": 50
        }
      ]
    },
    {
      "cell_type": "code",
      "metadata": {
        "id": "R1G-RQhCESuG",
        "colab_type": "code",
        "outputId": "ecd3a633-5d65-4069-b0d6-b4e89827a640",
        "colab": {
          "base_uri": "https://localhost:8080/",
          "height": 35
        }
      },
      "source": [
        "data[0],data[-1],data[1:],data[:2]"
      ],
      "execution_count": 0,
      "outputs": [
        {
          "output_type": "execute_result",
          "data": {
            "text/plain": [
              "('java', 'c', ['python', 'c'], ['java', 'python'])"
            ]
          },
          "metadata": {
            "tags": []
          },
          "execution_count": 55
        }
      ]
    },
    {
      "cell_type": "code",
      "metadata": {
        "id": "MB5lkfizEW88",
        "colab_type": "code",
        "outputId": "32f15549-b96d-45da-a19d-7149f59f9f9e",
        "colab": {
          "base_uri": "https://localhost:8080/",
          "height": 35
        }
      },
      "source": [
        "a=[1,2,3,4,5,6]\n",
        "a"
      ],
      "execution_count": 0,
      "outputs": [
        {
          "output_type": "execute_result",
          "data": {
            "text/plain": [
              "[1, 2, 3, 4, 5, 6]"
            ]
          },
          "metadata": {
            "tags": []
          },
          "execution_count": 67
        }
      ]
    },
    {
      "cell_type": "code",
      "metadata": {
        "id": "N6V0rG5yEzfF",
        "colab_type": "code",
        "colab": {}
      },
      "source": [
        "a.append(10)"
      ],
      "execution_count": 0,
      "outputs": []
    },
    {
      "cell_type": "code",
      "metadata": {
        "id": "bgLvpTLxE3fM",
        "colab_type": "code",
        "outputId": "1c3754dd-aeb3-4828-c08d-a3e309ec99d7",
        "colab": {
          "base_uri": "https://localhost:8080/",
          "height": 35
        }
      },
      "source": [
        "a"
      ],
      "execution_count": 0,
      "outputs": [
        {
          "output_type": "execute_result",
          "data": {
            "text/plain": [
              "[1, 2, 3, 4, 5, 6, 10]"
            ]
          },
          "metadata": {
            "tags": []
          },
          "execution_count": 69
        }
      ]
    },
    {
      "cell_type": "code",
      "metadata": {
        "id": "q12Adtd6E4As",
        "colab_type": "code",
        "outputId": "31fed1ff-dbc2-45dd-c20b-645165440515",
        "colab": {
          "base_uri": "https://localhost:8080/",
          "height": 35
        }
      },
      "source": [
        "a[1]=8\n",
        "a.sort()\n",
        "a.reverse()\n",
        "a"
      ],
      "execution_count": 0,
      "outputs": [
        {
          "output_type": "execute_result",
          "data": {
            "text/plain": [
              "[10, 8, 8, 6, 5, 4, 1]"
            ]
          },
          "metadata": {
            "tags": []
          },
          "execution_count": 75
        }
      ]
    },
    {
      "cell_type": "code",
      "metadata": {
        "id": "_cIl-IcEFCrl",
        "colab_type": "code",
        "outputId": "0ea6a9ff-95cc-4ada-8362-48293dfd5ef2",
        "colab": {
          "base_uri": "https://localhost:8080/",
          "height": 35
        }
      },
      "source": [
        "b=(1,2,3,'사','오')\n",
        "c=1,2,3\n",
        "type(b),type(c)"
      ],
      "execution_count": 0,
      "outputs": [
        {
          "output_type": "execute_result",
          "data": {
            "text/plain": [
              "(tuple, tuple)"
            ]
          },
          "metadata": {
            "tags": []
          },
          "execution_count": 78
        }
      ]
    },
    {
      "cell_type": "code",
      "metadata": {
        "id": "qNSkdJXBFfG1",
        "colab_type": "code",
        "colab": {}
      },
      "source": [
        "# b[3] = 4"
      ],
      "execution_count": 0,
      "outputs": []
    },
    {
      "cell_type": "code",
      "metadata": {
        "id": "E_byApynFiIH",
        "colab_type": "code",
        "outputId": "9d48bfc0-6000-4d6f-d624-7ed61984a6a3",
        "colab": {
          "base_uri": "https://localhost:8080/",
          "height": 35
        }
      },
      "source": [
        "b[3:],b[1:4]"
      ],
      "execution_count": 0,
      "outputs": [
        {
          "output_type": "execute_result",
          "data": {
            "text/plain": [
              "(('사', '오'), (2, 3, '사'))"
            ]
          },
          "metadata": {
            "tags": []
          },
          "execution_count": 83
        }
      ]
    },
    {
      "cell_type": "code",
      "metadata": {
        "id": "objuDnzWF2BG",
        "colab_type": "code",
        "colab": {}
      },
      "source": [
        "#dic = {key:value}"
      ],
      "execution_count": 0,
      "outputs": []
    },
    {
      "cell_type": "code",
      "metadata": {
        "id": "F2CtLwvhF-Kc",
        "colab_type": "code",
        "outputId": "9a577d8d-e462-4503-eb54-c7274fe13528",
        "colab": {
          "base_uri": "https://localhost:8080/",
          "height": 35
        }
      },
      "source": [
        "dic = {'name1':'덕민','학번1':30102,'name2':'덕민2','학번2':301021}\n",
        "dic"
      ],
      "execution_count": 0,
      "outputs": [
        {
          "output_type": "execute_result",
          "data": {
            "text/plain": [
              "{'name1': '덕민', 'name2': '덕민2', '학번1': 30102, '학번2': 301021}"
            ]
          },
          "metadata": {
            "tags": []
          },
          "execution_count": 92
        }
      ]
    },
    {
      "cell_type": "code",
      "metadata": {
        "id": "kC3oZAdLGh5F",
        "colab_type": "code",
        "outputId": "27880cc1-4f87-4328-9ed5-84267f422662",
        "colab": {
          "base_uri": "https://localhost:8080/",
          "height": 35
        }
      },
      "source": [
        "dic.get('name1')"
      ],
      "execution_count": 0,
      "outputs": [
        {
          "output_type": "execute_result",
          "data": {
            "text/plain": [
              "'덕민'"
            ]
          },
          "metadata": {
            "tags": []
          },
          "execution_count": 91
        }
      ]
    },
    {
      "cell_type": "code",
      "metadata": {
        "id": "mnmr6R7hGkHU",
        "colab_type": "code",
        "outputId": "a658138d-9e69-4bf8-b92e-e484e1d2eb9f",
        "colab": {
          "base_uri": "https://localhost:8080/",
          "height": 35
        }
      },
      "source": [
        "dic['name2']"
      ],
      "execution_count": 0,
      "outputs": [
        {
          "output_type": "execute_result",
          "data": {
            "text/plain": [
              "'덕민2'"
            ]
          },
          "metadata": {
            "tags": []
          },
          "execution_count": 95
        }
      ]
    },
    {
      "cell_type": "code",
      "metadata": {
        "id": "Uno1KXljGso0",
        "colab_type": "code",
        "outputId": "b3ce8e45-b7f4-4429-ce23-2ab3196636b2",
        "colab": {
          "base_uri": "https://localhost:8080/",
          "height": 35
        }
      },
      "source": [
        "dic.keys()"
      ],
      "execution_count": 0,
      "outputs": [
        {
          "output_type": "execute_result",
          "data": {
            "text/plain": [
              "dict_keys(['name1', '학번1', 'name2', '학번2'])"
            ]
          },
          "metadata": {
            "tags": []
          },
          "execution_count": 97
        }
      ]
    },
    {
      "cell_type": "code",
      "metadata": {
        "id": "x6CIDznaGyPk",
        "colab_type": "code",
        "outputId": "b705c1fc-8322-4dc5-9b90-4c90349b6947",
        "colab": {
          "base_uri": "https://localhost:8080/",
          "height": 35
        }
      },
      "source": [
        "dic.values()"
      ],
      "execution_count": 0,
      "outputs": [
        {
          "output_type": "execute_result",
          "data": {
            "text/plain": [
              "dict_values(['덕민', 30102, '덕민2', 301021])"
            ]
          },
          "metadata": {
            "tags": []
          },
          "execution_count": 99
        }
      ]
    },
    {
      "cell_type": "code",
      "metadata": {
        "id": "8WgYxyM6G9Kp",
        "colab_type": "code",
        "colab": {}
      },
      "source": [
        "lunch = {'햄버거','치킨','라면','콜라',10000}\n",
        "dinner = {'피자','족발','라면','콜라',10000}"
      ],
      "execution_count": 0,
      "outputs": []
    },
    {
      "cell_type": "code",
      "metadata": {
        "id": "R50ln51WHSuG",
        "colab_type": "code",
        "outputId": "514e62fd-803f-4320-fdbd-8833d75dcac3",
        "colab": {
          "base_uri": "https://localhost:8080/",
          "height": 35
        }
      },
      "source": [
        "lunch & dinner"
      ],
      "execution_count": 0,
      "outputs": [
        {
          "output_type": "execute_result",
          "data": {
            "text/plain": [
              "{10000, '라면', '콜라'}"
            ]
          },
          "metadata": {
            "tags": []
          },
          "execution_count": 101
        }
      ]
    },
    {
      "cell_type": "code",
      "metadata": {
        "id": "YqODvHBoHWko",
        "colab_type": "code",
        "outputId": "666ae418-0ef2-4cf6-86eb-9ca50a04bea4",
        "colab": {
          "base_uri": "https://localhost:8080/",
          "height": 35
        }
      },
      "source": [
        "dinner - lunch"
      ],
      "execution_count": 0,
      "outputs": [
        {
          "output_type": "execute_result",
          "data": {
            "text/plain": [
              "{'족발', '피자'}"
            ]
          },
          "metadata": {
            "tags": []
          },
          "execution_count": 103
        }
      ]
    },
    {
      "cell_type": "code",
      "metadata": {
        "id": "lIN5GUcEHcZ0",
        "colab_type": "code",
        "outputId": "43e7d756-ab2b-4ae7-b268-79e3ed46d086",
        "colab": {
          "base_uri": "https://localhost:8080/",
          "height": 35
        }
      },
      "source": [
        "dinner or lunch"
      ],
      "execution_count": 0,
      "outputs": [
        {
          "output_type": "execute_result",
          "data": {
            "text/plain": [
              "{10000, '라면', '족발', '콜라', '피자'}"
            ]
          },
          "metadata": {
            "tags": []
          },
          "execution_count": 104
        }
      ]
    },
    {
      "cell_type": "code",
      "metadata": {
        "id": "H5dsbZIjHgq8",
        "colab_type": "code",
        "outputId": "a8f8c5ee-ea7f-43ac-b08d-a3f6931e0f42",
        "colab": {
          "base_uri": "https://localhost:8080/",
          "height": 35
        }
      },
      "source": [
        "dinner | lunch"
      ],
      "execution_count": 0,
      "outputs": [
        {
          "output_type": "execute_result",
          "data": {
            "text/plain": [
              "{10000, '라면', '족발', '치킨', '콜라', '피자', '햄버거'}"
            ]
          },
          "metadata": {
            "tags": []
          },
          "execution_count": 105
        }
      ]
    },
    {
      "cell_type": "code",
      "metadata": {
        "id": "6NWYUw-EHkUk",
        "colab_type": "code",
        "colab": {}
      },
      "source": [
        ""
      ],
      "execution_count": 0,
      "outputs": []
    }
  ]
}