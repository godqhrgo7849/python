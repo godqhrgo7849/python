{
  "nbformat": 4,
  "nbformat_minor": 0,
  "metadata": {
    "colab": {
      "name": "가위바위보게임 Ex1.ipynb",
      "provenance": [],
      "collapsed_sections": []
    },
    "kernelspec": {
      "name": "python3",
      "display_name": "Python 3"
    }
  },
  "cells": [
    {
      "cell_type": "code",
      "metadata": {
        "id": "zv1i1lkcCpBa",
        "colab_type": "code",
        "colab": {}
      },
      "source": [
        "import random"
      ],
      "execution_count": 1,
      "outputs": []
    },
    {
      "cell_type": "code",
      "metadata": {
        "id": "xxf_o9PcCqwy",
        "colab_type": "code",
        "colab": {
          "base_uri": "https://localhost:8080/",
          "height": 53
        },
        "outputId": "814a6d77-e973-49d5-86b5-3f4766b13fe1"
      },
      "source": [
        "while True:\n",
        "  user=input(\"가위,바위,보 중 하나를 선택하시오. :\")\n",
        "  come=random.choice([\"가위\",\"바위\",\"보\"])\n",
        "  if user=='가위':\n",
        "    if come==\"가위\":\n",
        "      print(user,come,\"무승부\")\n",
        "      break;\n",
        "    elif come==\"바위\":\n",
        "      print(user,come,\"패배\")\n",
        "      break;\n",
        "    else :\n",
        "      print(user,come,\"승리\")\n",
        "      break;\n",
        "  if user=='바위':\n",
        "    if come==\"가위\":\n",
        "      print(user,come,\"승리\")\n",
        "      break;\n",
        "    elif come==\"바위\":\n",
        "      print(user,come,\"무승부\")\n",
        "      break;\n",
        "    else :\n",
        "      print(user,come,\"패배\")\n",
        "      break;\n",
        "  if user=='보':\n",
        "    if come==\"가위\":\n",
        "      print(user,come,\"패배\")\n",
        "      break;\n",
        "    elif come==\"바위\":\n",
        "      print(user,come,\"승리\")\n",
        "      break;\n",
        "    else :\n",
        "      print(user,come,\"무승부\")\n",
        "      break;"
      ],
      "execution_count": 10,
      "outputs": [
        {
          "output_type": "stream",
          "text": [
            "가위,바위,보 중 하나를 선택하시오. :가위\n",
            "가위 바위 패배\n"
          ],
          "name": "stdout"
        }
      ]
    }
  ]
}